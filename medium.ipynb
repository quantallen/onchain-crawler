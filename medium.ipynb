{
 "cells": [
  {
   "cell_type": "code",
   "execution_count": 14,
   "metadata": {},
   "outputs": [],
   "source": [
    "import gspread\n",
    "from oauth2client.service_account import ServiceAccountCredentials\n",
    "import os\n",
    "import pandas as pd\n",
    "scope = ['https://spreadsheets.google.com/feeds',\n",
    "        'https://www.googleapis.com/auth/drive'\n",
    "        ]\n",
    "credentials = ServiceAccountCredentials.from_json_keyfile_name(\n",
    "    f\"{os.path.abspath(os.getcwd())}/goverancesheet.json\", scope)\n",
    "client = gspread.authorize(credentials)\n",
    "sheet = client.open_by_key(\n",
    "    \"1O2K1ItitG_Qwf7BW4EWkT-5Tvu3Ce7oH_dwZXNyyyFY\")\n",
    "worksheet = sheet.worksheet('20220915_coin_listing_spot')\n",
    "df = pd.DataFrame(worksheet.get_all_records())\n",
    "newdf = df[df['Link'] != '']\n",
    "newdf= newdf.reset_index()\n"
   ]
  },
  {
   "cell_type": "code",
   "execution_count": 56,
   "metadata": {},
   "outputs": [],
   "source": [
    "import requests\n",
    "from bs4 import BeautifulSoup\n",
    "\n",
    "def get_medium_url(url):\n",
    "    user_agent = {'User-Agent': 'Mozilla/5.0 (Windows; U; Windows NT 5.1; hu-HU; rv:1.7.8) Gecko/20050511 Firefox/1.0.4'}\n",
    "    rs = requests.session()\n",
    "    req = rs.get(url,headers=user_agent)\n",
    "    #req = rs.get('https://medium.com/avalancheavax',headers=user_agent)\n",
    "    req.encoding = 'utf-8'\n",
    "    soup = BeautifulSoup(req.text, 'html.parser')\n",
    "    try :\n",
    "        soup = BeautifulSoup(req.text, 'html.parser')\n",
    "        article = soup.find_all('div', {'class': 'u-letterSpacingTight u-lineHeightTighter u-breakWord u-textOverflowEllipsis u-lineClamp4 u-fontSize30 u-size12of12 u-xs-size12of12 u-xs-fontSize24'})\n",
    "        #print(\"in\")\n",
    "        title = soup.find_all('div',{'class':'col u-xs-marginBottom10 u-paddingLeft9 u-paddingRight12 u-paddingTop0 u-sm-paddingTop20 u-paddingBottom25 u-size4of12 u-xs-size12of12 u-marginBottom30'})\n",
    "        title2 = soup.find_all('div',{'class':'col u-xs-marginBottom10 u-paddingLeft0 u-paddingRight0 u-paddingTop15 u-marginBottom30'})\n",
    "        dateTime = soup.select('time')\n",
    "        article2 = soup.find_all('div', {'class': 'u-letterSpacingTight u-lineHeightTighter u-breakWord u-textOverflowEllipsis u-lineClamp3 u-fontSize24'})\n",
    "        article.extend(article2)\n",
    "        list_of_url = [title[0].find_all('a')[0]['href']]\n",
    "        list_of_title = [a.text for a in article]\n",
    "        list_of_date = [d['datetime'] for d in dateTime]\n",
    "        #print(list_of_url)\n",
    "        #print(list_of_title)\n",
    "        #print(list_of_date)\n",
    "        for t in title2:\n",
    "            url = t.find_all('a')\n",
    "            list_of_url.append(url[0]['href'])\n",
    "        \n",
    "        return list_of_url,list_of_title, list_of_date\n",
    "    except :\n",
    "        return 0,0,0"
   ]
  },
  {
   "cell_type": "code",
   "execution_count": 57,
   "metadata": {},
   "outputs": [
    {
     "name": "stdout",
     "output_type": "stream",
     "text": [
      "https://medium.com/solana-labs\n",
      "https://medium.com/avalancheavax\n",
      "['AVAX', 'Transfero Brings Digital Brazilian Real to Avalanche', 'https://medium.com/avalancheavax/transfero-brings-digital-brazilian-real-to-avalanche-65e9a61b203?source=collection_home---4------0-----------------------', '2022-09-14T13:01:32.988Z']\n",
      "['AVAX', 'Securitize Launches Tokenized Exposure to KKR Fund on Avalanche', 'https://medium.com/avalancheavax/securitize-launches-tokenized-exposure-to-kkr-fund-on-avalanche-2ce359e64e50?source=collection_home---4------1-----------------------', '2022-09-13T11:29:57.607Z']\n",
      "https://medium.com/dfinity\n",
      "['ICP', 'NFID: The Digital Identity\\xa0Protocol', 'https://medium.com/dfinity/nfid-the-digital-identity-protocol-7d8a39f7ac85?source=collection_home---4------1-----------------------', '2022-09-14T15:30:19.739Z']\n"
     ]
    }
   ],
   "source": [
    "from datetime import datetime, timedelta\n",
    "for idx,t in enumerate(newdf['Link']) :\n",
    "    print(t)\n",
    "    list_of_url,list_of_title, list_of_date = get_medium_url(t)\n",
    "    if list_of_url == 0 and list_of_title == 0 and list_of_date ==0 :\n",
    "        print(\"in?\")\n",
    "        continue\n",
    "    d_u = dict(zip(list_of_date,list_of_url))\n",
    "    d_f = dict(zip(list_of_date,list_of_title))\n",
    "    for d in d_u :\n",
    "        if datetime.now() - datetime.strptime(d, '%Y-%m-%dT%H:%M:%S.%fZ') <= timedelta(days= 3):\n",
    "            df = [newdf['Symbol'][idx],d_f[d],d_u[d],d]\n",
    "            print(df)"
   ]
  },
  {
   "cell_type": "code",
   "execution_count": null,
   "metadata": {},
   "outputs": [],
   "source": [
    "class=\"ui-caption u-fontSize12 u-baseColor--textNormal u-textColorNormal js-postMetaInlineSupplemental\"\n",
    "col u-xs-marginBottom10 u-paddingLeft0 u-paddingRight0 u-paddingTop15 u-marginBottom30\n",
    "col u-xs-marginBottom10 u-paddingLeft9 u-paddingRight12 u-paddingTop0 u-sm-paddingTop20 u-paddingBottom25 u-size4of12 u-xs-size12of12 u-marginBottom30"
   ]
  },
  {
   "cell_type": "code",
   "execution_count": 32,
   "metadata": {},
   "outputs": [],
   "source": [
    "user_agent = {'User-Agent': 'Mozilla/5.0 (Windows; U; Windows NT 5.1; hu-HU; rv:1.7.8) Gecko/20050511 Firefox/1.0.4'}\n",
    "rs = requests.session()\n",
    "#req = rs.get(url,headers=user_agent)\n",
    "req = rs.get('https://medium.com/avalancheavax',headers=user_agent)\n",
    "req.encoding = 'utf-8'\n",
    "soup = BeautifulSoup(req.text, 'html.parser')\n",
    "article = soup.find_all('div', {'class': 'u-letterSpacingTight u-lineHeightTighter u-breakWord u-textOverflowEllipsis u-lineClamp4 u-fontSize30 u-size12of12 u-xs-size12of12 u-xs-fontSize24'})\n",
    "title = soup.find_all('div',{'class':'col u-xs-marginBottom10 u-paddingLeft9 u-paddingRight12 u-paddingTop0 u-sm-paddingTop20 u-paddingBottom25 u-size4of12 u-xs-size12of12 u-marginBottom30'})\n",
    "title2 = soup.find_all('div',{'class':'col u-xs-marginBottom10 u-paddingLeft0 u-paddingRight0 u-paddingTop15 u-marginBottom30'})\n",
    "dateTime = soup.select('time' )\n",
    "article2 = soup.find_all('div', {'class': 'u-letterSpacingTight u-lineHeightTighter u-breakWord u-textOverflowEllipsis u-lineClamp3 u-fontSize24'})\n",
    "article.extend(article2)\n"
   ]
  },
  {
   "cell_type": "code",
   "execution_count": 33,
   "metadata": {},
   "outputs": [
    {
     "name": "stdout",
     "output_type": "stream",
     "text": [
      "25\n",
      "25\n",
      "Transfero Brings Digital Brazilian Real to Avalanche 2022-09-14T13:01:32.988Z\n",
      "Securitize Launches Tokenized Exposure to KKR Fund on Avalanche 2022-09-13T11:29:57.607Z\n",
      "Avalanche (AVAX) Listed on FTX Japan 2022-09-10T00:00:52.399Z\n",
      "Apricot Phase 6: Native Asset Call Deprecation 2022-09-08T00:05:27.247Z\n",
      "OpenBlox to Migrate Growing NFT Gaming Platform to Avalanche, Launch Three New Titles 2022-08-23T16:03:46.760Z\n",
      "WPF Launches Tokenized Film Finance Offerings (FFO) Hosted by Republic, Tokens To Be Built and… 2022-08-17T17:31:36.394Z\n",
      "Hubble Exchange Launches Native Perpetual Futures on Avalanche 2022-08-09T17:02:51.824Z\n",
      "CurateDAO Launches Decentralized, Pinterest-Like Data Curations Powered by Incentives on Avalanche 2022-08-09T14:02:57.672Z\n",
      "Core Browser Extension Adds Support for Ethereum, Setting a New Standard for UX across Avalanche… 2022-08-08T16:40:34.824Z\n",
      "Winners of the Avalanche Subnet Tutorial Contest 2022-08-02T16:00:16.009Z\n",
      "Welcome to Avalanche Hacks Summer 2022 2022-07-29T12:55:12.677Z\n",
      "Amberdata to Deliver Comprehensive Data on Avalanche to Institutional Market Participants 2022-07-27T15:56:51.814Z\n",
      "Avalanche Explorer: Expanding Subnet Support 2022-07-22T15:41:34.982Z\n",
      "Gamestar+ To Launch Web3 Reboots of Game Night Classics on Avalanche 2022-07-18T15:59:44.738Z\n",
      "Avalanche Bridge Wallet Address Change: What You Need to Know 2022-07-07T13:00:11.491Z\n",
      "Bridging Bitcoin To Avalanche: A Technical Overview 2022-06-24T19:19:20.205Z\n",
      "MetaDerby Launches Play-to-Earn Horse Racing Game on Avalanche 2022-06-24T16:01:10.824Z\n",
      "Avalanche Bridge Adds Native Bitcoin Support 2022-06-22T16:00:14.888Z\n",
      "Ava Labs Releases Core, an All-In-One Web3 Operating System for Avalanche 2022-06-22T14:00:10.464Z\n",
      "Institutions Are Building the Future with Avalanche 2022-06-21T15:14:32.230Z\n",
      "Avalanche (AVAX) Listed on OKCoin Japan 2022-06-10T16:13:11.093Z\n",
      "Chainlink Keepers and Chainlink VRF Go Live on Avalanche 2022-06-09T16:07:24.896Z\n",
      "Avalanche Launches Subnet Tutorial Contest with $32K in Prizes 2022-06-06T16:03:53.189Z\n",
      "It’s Time: Scale with Subnets 2022-05-19T15:01:00.093Z\n",
      "Pocket Worlds, Builder of Metaverses with 8 Years of Experience and 2M+ Monthly Users, to Launch… 2022-04-27T16:02:35.084Z\n",
      "25\n"
     ]
    }
   ],
   "source": [
    "list_of_url = [title[0].find_all('a')[0]['href']]\n",
    "for t in title2:\n",
    "    url = t.find_all('a')\n",
    "    list_of_url.append(url[0]['href'])\n",
    "\n"
   ]
  },
  {
   "cell_type": "code",
   "execution_count": 9,
   "metadata": {},
   "outputs": [
    {
     "name": "stdout",
     "output_type": "stream",
     "text": [
      "in\n",
      "1\n",
      "10\n",
      "10\n"
     ]
    },
    {
     "ename": "IndexError",
     "evalue": "list index out of range",
     "output_type": "error",
     "traceback": [
      "\u001b[0;31m---------------------------------------------------------------------------\u001b[0m",
      "\u001b[0;31mIndexError\u001b[0m                                Traceback (most recent call last)",
      "\u001b[1;32m/home/allen.kuo/crawler_onchain/medium.ipynb Cell 7\u001b[0m in \u001b[0;36m<cell line: 27>\u001b[0;34m()\u001b[0m\n\u001b[1;32m     <a href='vscode-notebook-cell://ssh-remote%2Bfrozen2/home/allen.kuo/crawler_onchain/medium.ipynb#W6sdnNjb2RlLXJlbW90ZQ%3D%3D?line=24'>25</a>\u001b[0m \u001b[39mprint\u001b[39m(\u001b[39mlen\u001b[39m(list_of_title))\n\u001b[1;32m     <a href='vscode-notebook-cell://ssh-remote%2Bfrozen2/home/allen.kuo/crawler_onchain/medium.ipynb#W6sdnNjb2RlLXJlbW90ZQ%3D%3D?line=25'>26</a>\u001b[0m \u001b[39mprint\u001b[39m(\u001b[39mlen\u001b[39m(list_of_date))  \n\u001b[0;32m---> <a href='vscode-notebook-cell://ssh-remote%2Bfrozen2/home/allen.kuo/crawler_onchain/medium.ipynb#W6sdnNjb2RlLXJlbW90ZQ%3D%3D?line=26'>27</a>\u001b[0m \u001b[39mprint\u001b[39m(list_of_url[\u001b[39m7\u001b[39;49m],list_of_title[\u001b[39m7\u001b[39m],list_of_date[\u001b[39m7\u001b[39m])\n",
      "\u001b[0;31mIndexError\u001b[0m: list index out of range"
     ]
    }
   ],
   "source": [
    "import requests\n",
    "from bs4 import BeautifulSoup\n",
    "user_agent = {'User-Agent': 'Mozilla/5.0 (Windows; U; Windows NT 5.1; hu-HU; rv:1.7.8) Gecko/20050511 Firefox/1.0.4'}\n",
    "rs = requests.session()\n",
    "#req = rs.get(url,headers=user_agent)\n",
    "req = rs.get('https://medium.com/solana-labs',headers=user_agent)\n",
    "req.encoding = 'utf-8'\n",
    "soup = BeautifulSoup(req.text, 'html.parser')\n",
    "article = soup.find_all('div', {'class': 'u-letterSpacingTight u-lineHeightTighter u-breakWord u-textOverflowEllipsis u-lineClamp4 u-fontSize30 u-size12of12 u-xs-size12of12 u-xs-fontSize24'})\n",
    "print(\"in\")\n",
    "title = soup.find_all('div',{'class':'col u-xs-marginBottom10 u-paddingLeft9 u-paddingRight12 u-paddingTop0 u-sm-paddingTop20 u-paddingBottom25 u-size4of12 u-xs-size12of12 u-marginBottom30'})\n",
    "#title2 = soup.find_all('div',{'class':'col u-xs-marginBottom10 u-paddingLeft0 u-paddingRight0 u-paddingTop15 u-marginBottom30'})\n",
    "title2 = soup.find_all('section',{'class':'u-marginTop30 u-xs-margin0 u-marginBottom15 u-maxWidth1032 u-sm-paddingLeft20 u-sm-paddingRight20 u-borderBox u-marginAuto'})\n",
    "dateTime = soup.select('time')\n",
    "article2 = soup.find_all('div', {'class': 'u-letterSpacingTight u-lineHeightTighter u-breakWord u-textOverflowEllipsis u-lineClamp3 u-fontSize24'})\n",
    "article.extend(article2)\n",
    "list_of_url = [title[0].find_all('a')[0]['href']]\n",
    "list_of_title = [a.text for a in article]\n",
    "list_of_date = [d for d in dateTime]\n",
    "list_of_url = []\n",
    "for t in title2:\n",
    "    url = t.find_all('a')\n",
    "    list_of_url.append(url[0]['href'])\n",
    "print(len(list_of_url))\n",
    "print(len(list_of_title))\n",
    "print(len(list_of_date))  \n",
    "print(list_of_url[7],list_of_title[7],list_of_date[7])\n"
   ]
  },
  {
   "cell_type": "code",
   "execution_count": 23,
   "metadata": {},
   "outputs": [
    {
     "name": "stdout",
     "output_type": "stream",
     "text": [
      "7\n",
      "Year In Review 2020\n",
      "2021-01-01T23:02:21.136Z\n",
      "Solana Ecosystem News\n",
      "2020-12-18T02:17:52.710Z\n",
      "Announcing The SOLAR Bridge\n",
      "2020-12-08T15:47:32.224Z\n",
      "Announcing the Winners of Solana’s Inaugural Hackathon\n",
      "2020-11-24T15:02:21.463Z\n",
      "Solana Foundation Grants — Wave One\n",
      "2020-11-19T02:46:18.214Z\n",
      "Announcing the Solana Foundation Delegation Strategy\n",
      "2020-11-13T02:31:27.183Z\n",
      "October Newsletter\n",
      "2020-11-03T18:42:13.919Z\n"
     ]
    }
   ],
   "source": [
    "title2 = soup.find_all('div',{'class':'col u-xs-marginBottom10 u-paddingLeft0 u-paddingRight0 u-paddingTop15 u-marginBottom30'})\n",
    "print(len(title2))\n",
    "for idx,t in enumerate(title2) :\n",
    "    title = t.find_all('div', {'class': 'u-letterSpacingTight u-lineHeightTighter u-breakWord u-textOverflowEllipsis u-lineClamp3 u-fontSize24'})\n",
    "    datetime = t.find_all('time')\n",
    "    print(title[0].text)\n",
    "\n",
    "    print(datetime[0]['datetime'])"
   ]
  },
  {
   "cell_type": "code",
   "execution_count": 31,
   "metadata": {},
   "outputs": [
    {
     "name": "stdout",
     "output_type": "stream",
     "text": [
      "<Response [200]>\n"
     ]
    }
   ],
   "source": [
    "import requests\n",
    "from bs4 import BeautifulSoup\n",
    "user_agent = {'User-Agent': 'Mozilla/5.0 (Windows; U; Windows NT 5.1; hu-HU; rv:1.7.8) Gecko/20050511 Firefox/1.0.4'}\n",
    "rs = requests.session()\n",
    "#req = rs.get(url,headers=user_agent)\n",
    "req = rs.get('https://klaytn.medium.com/',headers=user_agent)\n",
    "print(req)\n",
    "req.encoding = 'utf-8'\n",
    "soup = BeautifulSoup(req.text, 'html.parser')\n",
    "format = soup.find_all('div',{'class':'in l'})\n",
    "article = soup.find_all('a', {'class': 'au av aw ax ay az ba bb bc bd be bf bg bh bi'})\n",
    "title = soup.find_all('div',{'class': 'jc jd je jf jg l'})\n",
    "list_of_title = [a.text.lower().replace(' ','-').replace(\"'\",\"\") for a in title]\n",
    "list_of_url = [u['href'] for u in article]\n",
    "    \n",
    "#t = soup.find_all('div',{'class':''})\n",
    "#u = soup.find_all(\"a\",{\"class\":\"au av aw ax ay az ba bb bc bd be bf bg bh bi\"})#get(\"href\")\n",
    "# list_of_url = [title[0].find_all('a')[0]['href']]\n",
    "# list_of_title = [a.text for a in article]\n",
    "# list_of_date = [d for d in dateTime]\n",
    "# list_of_url = []\n",
    "# for t in title2:\n",
    "#     url = t.find_all('a')\n",
    "#     list_of_url.append(url[0]['href'])\n",
    "# print(len(list_of_url))\n",
    "# print(len(list_of_title))\n",
    "# print(len(list_of_date))  \n",
    "# print(list_of_url[7],list_of_title[7],list_of_date[7])"
   ]
  },
  {
   "cell_type": "code",
   "execution_count": 32,
   "metadata": {},
   "outputs": [
    {
     "data": {
      "text/plain": [
       "['https://medium.com/?source=---three_column_layout_nav----------------------------------',\n",
       " 'https://medium.com/?source=---three_column_layout_nav----------------------------------',\n",
       " 'https://medium.com/m/signin?operation=register&redirect=https%3A%2F%2Fmedium.com%2Fme%2Fnotifications&source=---three_column_layout_nav-----------------------notifications_sidenav-----------',\n",
       " 'https://medium.com/m/signin?operation=register&redirect=https%3A%2F%2Fmedium.com%2Fme%2Flists&source=---three_column_layout_nav-----------------------lists_sidenav-----------',\n",
       " 'https://medium.com/m/signin?operation=register&redirect=https%3A%2F%2Fmedium.com%2Fme%2Fstories%2Fdrafts&source=---three_column_layout_nav-----------------------stories_sidenav-----------',\n",
       " 'https://medium.com/m/signin?operation=register&redirect=https%3A%2F%2Fmedium.com%2Fnew-story&source=---three_column_layout_nav-----------------------new_post_sidenav-----------',\n",
       " '/?source=user_profile-------------------------------------',\n",
       " '/klaytn-to-be-blockchain-of-choice-for-gamefi-and-metaverse-in-2022-71295ba73c38?source=user_profile---------0----------------------------',\n",
       " 'https://medium.com/tag/blockchain?source=user_profile--------------------blockchain-----------------',\n",
       " '/klaytn-to-be-blockchain-of-choice-for-gamefi-and-metaverse-in-2022-71295ba73c38?source=user_profile---------0----------------------------',\n",
       " 'https://medium.com/m/signin?actionUrl=https%3A%2F%2Fmedium.com%2F_%2Fbookmark%2Fp%2F71295ba73c38&operation=register&redirect=https%3A%2F%2Fmedium.com%2Fklaytn%2Fklaytn-to-be-blockchain-of-choice-for-gamefi-and-metaverse-in-2022-71295ba73c38&source=---------0-----------------bookmark_preview-----------',\n",
       " '/klaytn-to-be-blockchain-of-choice-for-gamefi-and-metaverse-in-2022-71295ba73c38?source=user_profile---------0----------------------------',\n",
       " '/kakao-backed-blockchain-klaytn-announces-global-expansion-roadmap-for-2022-2d2844a7524e?source=user_profile---------1----------------------------',\n",
       " 'https://medium.com/tag/blockchain?source=user_profile--------------------blockchain-----------------',\n",
       " '/kakao-backed-blockchain-klaytn-announces-global-expansion-roadmap-for-2022-2d2844a7524e?source=user_profile---------1----------------------------',\n",
       " 'https://medium.com/m/signin?actionUrl=https%3A%2F%2Fmedium.com%2F_%2Fbookmark%2Fp%2F2d2844a7524e&operation=register&redirect=https%3A%2F%2Fmedium.com%2Fklaytn%2Fkakao-backed-blockchain-klaytn-announces-global-expansion-roadmap-for-2022-2d2844a7524e&source=---------1-----------------bookmark_preview-----------',\n",
       " '/kakao-backed-blockchain-klaytn-announces-global-expansion-roadmap-for-2022-2d2844a7524e?source=user_profile---------1----------------------------',\n",
       " '/governance-proposal-for-klaytn-block-reward-reduction-3f28c7175363?source=user_profile---------2----------------------------',\n",
       " '/governance-proposal-for-klaytn-block-reward-reduction-3f28c7175363?source=user_profile---------2----------------------------',\n",
       " 'https://medium.com/m/signin?actionUrl=https%3A%2F%2Fmedium.com%2F_%2Fbookmark%2Fp%2F3f28c7175363&operation=register&redirect=https%3A%2F%2Fklaytn.medium.com%2Fgovernance-proposal-for-klaytn-block-reward-reduction-3f28c7175363&source=---------2-----------------bookmark_preview-----------',\n",
       " '/governance-proposal-for-klaytn-block-reward-reduction-3f28c7175363?source=user_profile---------2----------------------------',\n",
       " '/klaytn의-block-reward-축소-제안-진행상황-공유-5a97c7e20781?source=user_profile---------3----------------------------',\n",
       " '/klaytn의-block-reward-축소-제안-진행상황-공유-5a97c7e20781?source=user_profile---------3----------------------------',\n",
       " 'https://medium.com/m/signin?actionUrl=https%3A%2F%2Fmedium.com%2F_%2Fbookmark%2Fp%2F5a97c7e20781&operation=register&redirect=https%3A%2F%2Fmedium.com%2Fklaytn-kr%2Fklaytn%25EC%259D%2598-block-reward-%25EC%25B6%2595%25EC%2586%258C-%25EC%25A0%259C%25EC%2595%2588-%25EC%25A7%2584%25ED%2596%2589%25EC%2583%2581%25ED%2599%25A9-%25EA%25B3%25B5%25EC%259C%25A0-5a97c7e20781&source=---------3-----------------bookmark_preview-----------',\n",
       " '/klaytn의-block-reward-축소-제안-진행상황-공유-5a97c7e20781?source=user_profile---------3----------------------------',\n",
       " '/swapscanner-joins-the-klaytn-governance-council-15449c7ae95a?source=user_profile---------4----------------------------',\n",
       " '/swapscanner-joins-the-klaytn-governance-council-15449c7ae95a?source=user_profile---------4----------------------------',\n",
       " 'https://medium.com/m/signin?actionUrl=https%3A%2F%2Fmedium.com%2F_%2Fbookmark%2Fp%2F15449c7ae95a&operation=register&redirect=https%3A%2F%2Fmedium.com%2Fklaytn-kr%2Fswapscanner-joins-the-klaytn-governance-council-15449c7ae95a&source=---------4-----------------bookmark_preview-----------',\n",
       " '/swapscanner-joins-the-klaytn-governance-council-15449c7ae95a?source=user_profile---------4----------------------------',\n",
       " '/ethbogotas-klaytn-challenge-winners-ad5bee8a2e03?source=user_profile---------5----------------------------',\n",
       " 'https://medium.com/tag/uncategorized?source=user_profile--------------------uncategorized-----------------',\n",
       " '/ethbogotas-klaytn-challenge-winners-ad5bee8a2e03?source=user_profile---------5----------------------------',\n",
       " 'https://medium.com/m/signin?actionUrl=https%3A%2F%2Fmedium.com%2F_%2Fbookmark%2Fp%2Fad5bee8a2e03&operation=register&redirect=https%3A%2F%2Fmedium.com%2Fklaytn%2Fethbogotas-klaytn-challenge-winners-ad5bee8a2e03&source=---------5-----------------bookmark_preview-----------',\n",
       " '/ethbogotas-klaytn-challenge-winners-ad5bee8a2e03?source=user_profile---------5----------------------------',\n",
       " '/이더리움의-머지-가-클레이튼에-가지는-의미-da5ff10b3c50?source=user_profile---------6----------------------------',\n",
       " 'https://medium.com/tag/klaytn?source=user_profile--------------------klaytn-----------------',\n",
       " '/이더리움의-머지-가-클레이튼에-가지는-의미-da5ff10b3c50?source=user_profile---------6----------------------------',\n",
       " 'https://medium.com/m/signin?actionUrl=https%3A%2F%2Fmedium.com%2F_%2Fbookmark%2Fp%2Fda5ff10b3c50&operation=register&redirect=https%3A%2F%2Fmedium.com%2Fklaytn-kr%2F%25EC%259D%25B4%25EB%258D%2594%25EB%25A6%25AC%25EC%259B%2580%25EC%259D%2598-%25EB%25A8%25B8%25EC%25A7%2580-%25EA%25B0%2580-%25ED%2581%25B4%25EB%25A0%2588%25EC%259D%25B4%25ED%258A%25BC%25EC%2597%2590-%25EA%25B0%2580%25EC%25A7%2580%25EB%258A%2594-%25EC%259D%2598%25EB%25AF%25B8-da5ff10b3c50&source=---------6-----------------bookmark_preview-----------',\n",
       " '/이더리움의-머지-가-클레이튼에-가지는-의미-da5ff10b3c50?source=user_profile---------6----------------------------',\n",
       " '/klaytn-and-vtvl-help-buidlers-automate-token-vesting-and-distribution-361241850748?source=user_profile---------7----------------------------',\n",
       " 'https://medium.com/tag/announcements?source=user_profile--------------------announcements-----------------',\n",
       " '/klaytn-and-vtvl-help-buidlers-automate-token-vesting-and-distribution-361241850748?source=user_profile---------7----------------------------',\n",
       " 'https://medium.com/m/signin?actionUrl=https%3A%2F%2Fmedium.com%2F_%2Fbookmark%2Fp%2F361241850748&operation=register&redirect=https%3A%2F%2Fmedium.com%2Fklaytn%2Fklaytn-and-vtvl-help-buidlers-automate-token-vesting-and-distribution-361241850748&source=---------7-----------------bookmark_preview-----------',\n",
       " '/klaytn-and-vtvl-help-buidlers-automate-token-vesting-and-distribution-361241850748?source=user_profile---------7----------------------------',\n",
       " '/monthly-round-up-september-2022-1b047fe5872c?source=user_profile---------8----------------------------',\n",
       " 'https://medium.com/tag/announcements?source=user_profile--------------------announcements-----------------',\n",
       " '/monthly-round-up-september-2022-1b047fe5872c?source=user_profile---------8----------------------------',\n",
       " 'https://medium.com/m/signin?actionUrl=https%3A%2F%2Fmedium.com%2F_%2Fbookmark%2Fp%2F1b047fe5872c&operation=register&redirect=https%3A%2F%2Fmedium.com%2Fklaytn%2Fmonthly-round-up-september-2022-1b047fe5872c&source=---------8-----------------bookmark_preview-----------',\n",
       " '/monthly-round-up-september-2022-1b047fe5872c?source=user_profile---------8----------------------------',\n",
       " '/klaytn-partners-with-zetachain-to-advance-built-in-omnichain-interoperability-9d32174cc83b?source=user_profile---------9----------------------------',\n",
       " 'https://medium.com/tag/ecosystem?source=user_profile--------------------ecosystem-----------------',\n",
       " '/klaytn-partners-with-zetachain-to-advance-built-in-omnichain-interoperability-9d32174cc83b?source=user_profile---------9----------------------------',\n",
       " 'https://medium.com/m/signin?actionUrl=https%3A%2F%2Fmedium.com%2F_%2Fbookmark%2Fp%2F9d32174cc83b&operation=register&redirect=https%3A%2F%2Fmedium.com%2Fklaytn%2Fklaytn-partners-with-zetachain-to-advance-built-in-omnichain-interoperability-9d32174cc83b&source=---------9-----------------bookmark_preview-----------',\n",
       " '/klaytn-partners-with-zetachain-to-advance-built-in-omnichain-interoperability-9d32174cc83b?source=user_profile---------9----------------------------',\n",
       " 'https://medium.com/m/signin?operation=register&redirect=https%3A%2F%2Fklaytn.medium.com%2F&source=user_profile---three_column_layout_sidebar-----------------------three_column_layout_nav-----------',\n",
       " '/?source=---three_column_layout_sidebar----------------------------------',\n",
       " '/?source=---three_column_layout_sidebar----------------------------------',\n",
       " 'https://medium.com/m/signin?actionUrl=%2F_%2Fapi%2Fsubscriptions%2Fnewsletters%2F4db911d57898&operation=register&redirect=https%3A%2F%2Fklaytn.medium.com%2F&newsletterV3=2cd1485f110a&newsletterV3Id=4db911d57898&user=Klaytn&userId=2cd1485f110a&source=---three_column_layout_sidebar-----------------------subscribe_user-----------',\n",
       " 'https://help.medium.com/hc/en-us?source=---three_column_layout_sidebar----------------------------------',\n",
       " 'https://medium.statuspage.io/?source=---three_column_layout_sidebar----------------------------------',\n",
       " 'https://about.medium.com/creators/?source=---three_column_layout_sidebar----------------------------------',\n",
       " 'https://blog.medium.com/?source=---three_column_layout_sidebar----------------------------------',\n",
       " 'https://medium.com/jobs-at-medium/work-at-medium-959d1a85284e?source=---three_column_layout_sidebar----------------------------------',\n",
       " 'https://policy.medium.com/medium-privacy-policy-f03bf92035c9?source=---three_column_layout_sidebar----------------------------------',\n",
       " 'https://policy.medium.com/medium-terms-of-service-9db0094a1e0f?source=---three_column_layout_sidebar----------------------------------',\n",
       " 'https://medium.com/about?autoplay=1&source=---three_column_layout_sidebar----------------------------------',\n",
       " 'https://knowable.fyi/?source=---three_column_layout_sidebar----------------------------------']"
      ]
     },
     "execution_count": 32,
     "metadata": {},
     "output_type": "execute_result"
    }
   ],
   "source": [
    "list_of_url"
   ]
  },
  {
   "cell_type": "code",
   "execution_count": 39,
   "metadata": {},
   "outputs": [
    {
     "name": "stdout",
     "output_type": "stream",
     "text": [
      "klaytn-to-be-blockchain-of-choice-for-gamefi-and-metaverse-in-2022\n",
      "kakao-backed-blockchain-klaytn-announces-global-expansion-roadmap-for-2022\n",
      "governance-proposal-for-klaytn-block-reward-reduction\n",
      "klaytn의-block-reward-축소-제안-진행상황-공유\n",
      "swapscanner-joins-the-klaytn-governance-council\n",
      "ethbogota’s-klaytn-challenge-winners\n",
      "이더리움의-“머지”가-클레이튼에-가지는-의미\n",
      "klaytn-and-vtvl-help-buidlers-automate-token-vesting-and-distribution\n",
      "monthly-round-up:-september-2022\n",
      "klaytn-partners-with-zetachain-to-advance-built-in-omnichain-interoperability\n"
     ]
    }
   ],
   "source": [
    "url = 'https://klaytn.medium.com'\n",
    "list_new_url = []\n",
    "from re import search\n",
    "import re\n",
    "for ti in list_of_title :\n",
    "    print(ti)\n",
    "    #nti = re.sub(r'\\W+', '', ti)\n",
    "    #print(nti)\n",
    "    for ur in list_of_url :\n",
    "            if search(ti, str(ur)):\n",
    "                new_url = url+ur\n",
    "                list_new_url.append(new_url)\n",
    "                break\n",
    "               "
   ]
  },
  {
   "cell_type": "code",
   "execution_count": null,
   "metadata": {},
   "outputs": [],
   "source": []
  },
  {
   "cell_type": "code",
   "execution_count": 47,
   "metadata": {},
   "outputs": [
    {
     "name": "stdout",
     "output_type": "stream",
     "text": [
      "67\n"
     ]
    }
   ],
   "source": [
    "print(len(list_of_url))\n"
   ]
  },
  {
   "cell_type": "code",
   "execution_count": 44,
   "metadata": {},
   "outputs": [
    {
     "name": "stdout",
     "output_type": "stream",
     "text": [
      "<Response [200]>\n",
      "Jan 17\n",
      "2022-01-17 00:00:00\n",
      "<Response [200]>\n",
      "Jan 10\n",
      "2022-01-10 00:00:00\n",
      "<Response [200]>\n",
      "Oct 23\n",
      "2022-10-23 00:00:00\n",
      "<Response [200]>\n",
      "Oct 23\n",
      "2022-10-23 00:00:00\n",
      "<Response [200]>\n",
      "Oct 18\n",
      "2022-10-18 00:00:00\n",
      "<Response [200]>\n",
      "Oct 13\n",
      "2022-10-13 00:00:00\n",
      "<Response [200]>\n",
      "Oct 3\n",
      "2022-10-03 00:00:00\n"
     ]
    }
   ],
   "source": [
    "from datetime import datetime,timedelta\n",
    "for i in list_new_url:\n",
    "    req = rs.get(i,headers=user_agent)\n",
    "    print(req)\n",
    "    req.encoding = 'utf-8'\n",
    "    soup = BeautifulSoup(req.text, 'html.parser')\n",
    "    date_format = soup.find_all('p',{'class':'pw-published-date bm b bn bo cn'})\n",
    "    print(date_format[0].text)\n",
    "    year = datetime.today().year\n",
    "    #print(date_format)\n",
    "    str_date = str(year)+' '+date_format[0].text\n",
    "    datetime_object = datetime.strptime(str_date, '%Y %b %d')\n",
    "    print(datetime_object)"
   ]
  },
  {
   "cell_type": "code",
   "execution_count": 45,
   "metadata": {},
   "outputs": [
    {
     "name": "stdout",
     "output_type": "stream",
     "text": [
      "10 7\n"
     ]
    }
   ],
   "source": [
    "print(len(list_of_title),len(list_new_url))"
   ]
  },
  {
   "cell_type": "code",
   "execution_count": 31,
   "metadata": {},
   "outputs": [
    {
     "name": "stdout",
     "output_type": "stream",
     "text": [
      "https://medium.com/?source=---three_column_layout_nav----------------------------------\n",
      "https://medium.com/?source=---three_column_layout_nav----------------------------------\n",
      "https://medium.com/m/signin?operation=register&redirect=https%3A%2F%2Fmedium.com%2Fme%2Fnotifications&source=---three_column_layout_nav-----------------------notifications_sidenav-----------\n",
      "https://medium.com/m/signin?operation=register&redirect=https%3A%2F%2Fmedium.com%2Fme%2Flists&source=---three_column_layout_nav-----------------------lists_sidenav-----------\n",
      "https://medium.com/m/signin?operation=register&redirect=https%3A%2F%2Fmedium.com%2Fme%2Fstories%2Fdrafts&source=---three_column_layout_nav-----------------------stories_sidenav-----------\n",
      "https://medium.com/m/signin?operation=register&redirect=https%3A%2F%2Fmedium.com%2Fnew-story&source=---three_column_layout_nav-----------------------new_post_sidenav-----------\n",
      "/?source=user_profile-------------------------------------\n",
      "/?source=user_profile-------------------------------------\n",
      "/aptos-autumn-is-here-92a8d904eb49?source=user_profile---------0----------------------------\n",
      "/aptos-autumn-is-here-92a8d904eb49?source=user_profile---------0----------------------------\n",
      "https://medium.com/m/signin?actionUrl=https%3A%2F%2Fmedium.com%2F_%2Fbookmark%2Fp%2F92a8d904eb49&operation=register&redirect=https%3A%2F%2Faptoslabs.medium.com%2Faptos-autumn-is-here-92a8d904eb49&source=---------0-----------------bookmark_preview-----------\n",
      "/aptos-autumn-is-here-92a8d904eb49?source=user_profile---------0----------------------------\n",
      "/the-making-of-the-aptos-gas-schedule-508d5686a350?source=user_profile---------1----------------------------\n",
      "/the-making-of-the-aptos-gas-schedule-508d5686a350?source=user_profile---------1----------------------------\n",
      "https://medium.com/m/signin?actionUrl=https%3A%2F%2Fmedium.com%2F_%2Fbookmark%2Fp%2F508d5686a350&operation=register&redirect=https%3A%2F%2Faptoslabs.medium.com%2Fthe-making-of-the-aptos-gas-schedule-508d5686a350&source=---------1-----------------bookmark_preview-----------\n",
      "/the-making-of-the-aptos-gas-schedule-508d5686a350?source=user_profile---------1----------------------------\n",
      "/the-journey-from-ait3-to-longevity-testnet-6d888885a7d0?source=user_profile---------2----------------------------\n",
      "/the-journey-from-ait3-to-longevity-testnet-6d888885a7d0?source=user_profile---------2----------------------------\n",
      "https://medium.com/m/signin?actionUrl=https%3A%2F%2Fmedium.com%2F_%2Fbookmark%2Fp%2F6d888885a7d0&operation=register&redirect=https%3A%2F%2Faptoslabs.medium.com%2Fthe-journey-from-ait3-to-longevity-testnet-6d888885a7d0&source=---------2-----------------bookmark_preview-----------\n",
      "/the-journey-from-ait3-to-longevity-testnet-6d888885a7d0?source=user_profile---------2----------------------------\n",
      "/welcome-to-aptos-incentivized-testnet-3-9d7ce888205c?source=user_profile---------3----------------------------\n",
      "/welcome-to-aptos-incentivized-testnet-3-9d7ce888205c?source=user_profile---------3----------------------------\n",
      "https://medium.com/m/signin?actionUrl=https%3A%2F%2Fmedium.com%2F_%2Fbookmark%2Fp%2F9d7ce888205c&operation=register&redirect=https%3A%2F%2Fmedium.com%2Faptoslabs%2Fwelcome-to-aptos-incentivized-testnet-3-9d7ce888205c&source=---------3-----------------bookmark_preview-----------\n",
      "/welcome-to-aptos-incentivized-testnet-3-9d7ce888205c?source=user_profile---------3----------------------------\n",
      "/aptos-incentivized-testnet-2-highlights-and-updates-ee478eace33c?source=user_profile---------4----------------------------\n",
      "/aptos-incentivized-testnet-2-highlights-and-updates-ee478eace33c?source=user_profile---------4----------------------------\n",
      "https://medium.com/m/signin?actionUrl=https%3A%2F%2Fmedium.com%2F_%2Fbookmark%2Fp%2Fee478eace33c&operation=register&redirect=https%3A%2F%2Fmedium.com%2Faptoslabs%2Faptos-incentivized-testnet-2-highlights-and-updates-ee478eace33c&source=---------4-----------------bookmark_preview-----------\n",
      "/aptos-incentivized-testnet-2-highlights-and-updates-ee478eace33c?source=user_profile---------4----------------------------\n",
      "/entering-the-next-phase-of-the-aptos-journey-with-added-funding-and-new-partners-d4daa03dd17c?source=user_profile---------5----------------------------\n",
      "/entering-the-next-phase-of-the-aptos-journey-with-added-funding-and-new-partners-d4daa03dd17c?source=user_profile---------5----------------------------\n",
      "https://medium.com/m/signin?actionUrl=https%3A%2F%2Fmedium.com%2F_%2Fbookmark%2Fp%2Fd4daa03dd17c&operation=register&redirect=https%3A%2F%2Fmedium.com%2Faptoslabs%2Fentering-the-next-phase-of-the-aptos-journey-with-added-funding-and-new-partners-d4daa03dd17c&source=---------5-----------------bookmark_preview-----------\n",
      "/entering-the-next-phase-of-the-aptos-journey-with-added-funding-and-new-partners-d4daa03dd17c?source=user_profile---------5----------------------------\n",
      "/welcome-to-aptos-incentivized-testnet-2-af26e2fd69a7?source=user_profile---------6----------------------------\n",
      "/welcome-to-aptos-incentivized-testnet-2-af26e2fd69a7?source=user_profile---------6----------------------------\n",
      "https://medium.com/m/signin?actionUrl=https%3A%2F%2Fmedium.com%2F_%2Fbookmark%2Fp%2Faf26e2fd69a7&operation=register&redirect=https%3A%2F%2Fmedium.com%2Faptoslabs%2Fwelcome-to-aptos-incentivized-testnet-2-af26e2fd69a7&source=---------6-----------------bookmark_preview-----------\n",
      "/welcome-to-aptos-incentivized-testnet-2-af26e2fd69a7?source=user_profile---------6----------------------------\n",
      "/announcing-the-aptos-grant-program-7654b92e22a1?source=user_profile---------7----------------------------\n",
      "/announcing-the-aptos-grant-program-7654b92e22a1?source=user_profile---------7----------------------------\n",
      "https://medium.com/m/signin?actionUrl=https%3A%2F%2Fmedium.com%2F_%2Fbookmark%2Fp%2F7654b92e22a1&operation=register&redirect=https%3A%2F%2Fmedium.com%2Faptoslabs%2Fannouncing-the-aptos-grant-program-7654b92e22a1&source=---------7-----------------bookmark_preview-----------\n",
      "/announcing-the-aptos-grant-program-7654b92e22a1?source=user_profile---------7----------------------------\n",
      "/aptos-nfts-solving-nft-minting-at-scale-79a4334ac8ac?source=user_profile---------8----------------------------\n",
      "/aptos-nfts-solving-nft-minting-at-scale-79a4334ac8ac?source=user_profile---------8----------------------------\n",
      "https://medium.com/m/signin?actionUrl=https%3A%2F%2Fmedium.com%2F_%2Fbookmark%2Fp%2F79a4334ac8ac&operation=register&redirect=https%3A%2F%2Fmedium.com%2Faptoslabs%2Faptos-nfts-solving-nft-minting-at-scale-79a4334ac8ac&source=---------8-----------------bookmark_preview-----------\n",
      "/aptos-nfts-solving-nft-minting-at-scale-79a4334ac8ac?source=user_profile---------8----------------------------\n",
      "/completing-ait1-ait2-in-hot-pursuit-3f159f4bfb8b?source=user_profile---------9----------------------------\n",
      "/completing-ait1-ait2-in-hot-pursuit-3f159f4bfb8b?source=user_profile---------9----------------------------\n",
      "https://medium.com/m/signin?actionUrl=https%3A%2F%2Fmedium.com%2F_%2Fbookmark%2Fp%2F3f159f4bfb8b&operation=register&redirect=https%3A%2F%2Fmedium.com%2Faptoslabs%2Fcompleting-ait1-ait2-in-hot-pursuit-3f159f4bfb8b&source=---------9-----------------bookmark_preview-----------\n",
      "/completing-ait1-ait2-in-hot-pursuit-3f159f4bfb8b?source=user_profile---------9----------------------------\n",
      "https://medium.com/m/signin?operation=register&redirect=https%3A%2F%2Faptoslabs.medium.com%2F&source=user_profile---three_column_layout_sidebar-----------------------three_column_layout_nav-----------\n",
      "/?source=---three_column_layout_sidebar----------------------------------\n",
      "/?source=---three_column_layout_sidebar----------------------------------\n",
      "https://medium.com/m/signin?actionUrl=%2F_%2Fapi%2Fsubscriptions%2Fnewsletters%2F35c7dd2bc26&operation=register&redirect=https%3A%2F%2Faptoslabs.medium.com%2F&newsletterV3=70211828fe2e&newsletterV3Id=35c7dd2bc26&user=Aptos&userId=70211828fe2e&source=---three_column_layout_sidebar-----------------------subscribe_user-----------\n",
      "https://help.medium.com/hc/en-us?source=---three_column_layout_sidebar----------------------------------\n",
      "https://medium.statuspage.io/?source=---three_column_layout_sidebar----------------------------------\n",
      "https://about.medium.com/creators/?source=---three_column_layout_sidebar----------------------------------\n",
      "https://blog.medium.com/?source=---three_column_layout_sidebar----------------------------------\n",
      "https://medium.com/jobs-at-medium/work-at-medium-959d1a85284e?source=---three_column_layout_sidebar----------------------------------\n",
      "https://policy.medium.com/medium-privacy-policy-f03bf92035c9?source=---three_column_layout_sidebar----------------------------------\n",
      "https://policy.medium.com/medium-terms-of-service-9db0094a1e0f?source=---three_column_layout_sidebar----------------------------------\n",
      "https://medium.com/about?autoplay=1&source=---three_column_layout_sidebar----------------------------------\n",
      "https://knowable.fyi/?source=---three_column_layout_sidebar----------------------------------\n"
     ]
    }
   ],
   "source": [
    "list_of_url = []\n",
    "for t in u :\n",
    "    #print(t)\n",
    "    rl = t.get('href')\n",
    "    print(rl)\n",
    "    list_of_url.append(rl)"
   ]
  },
  {
   "cell_type": "code",
   "execution_count": 45,
   "metadata": {},
   "outputs": [
    {
     "data": {
      "text/plain": [
       "'https://aptoslabs.medium.com/aptos-autumn-is-here-92a8d904eb49?source=user_profile---------0----------------------------'"
      ]
     },
     "execution_count": 45,
     "metadata": {},
     "output_type": "execute_result"
    }
   ],
   "source": [
    "from re import search\n",
    "substring = \"aptos-autumn-is-here\"\n",
    "for ur in list_of_url :\n",
    "    #print(str(ur))\n",
    "    if search(substring, str(ur)):\n",
    "        new_url = 'https://aptoslabs.medium.com'+ur\n",
    "        break\n",
    "\n",
    "new_url"
   ]
  },
  {
   "cell_type": "code",
   "execution_count": 51,
   "metadata": {},
   "outputs": [],
   "source": [
    "date_req = rs.get(new_url,headers=user_agent)\n",
    "date_req.encoding = 'utf-8'\n",
    "soup2 = BeautifulSoup(date_req.text, 'html.parser')\n",
    "date = soup2.find_all('p', {'class': 'pw-published-date bm b bn bo cn'})"
   ]
  },
  {
   "cell_type": "code",
   "execution_count": 55,
   "metadata": {},
   "outputs": [],
   "source": [
    "from datetime import datetime\n",
    "\n",
    "year = datetime.today().year\n",
    "str_date = ''+date[0].text\n",
    "datetime_object = datetime.strptime(str_date, '%b %d')\n"
   ]
  },
  {
   "cell_type": "code",
   "execution_count": 56,
   "metadata": {},
   "outputs": [
    {
     "data": {
      "text/plain": [
       "datetime.datetime(1900, 10, 17, 0, 0)"
      ]
     },
     "execution_count": 56,
     "metadata": {},
     "output_type": "execute_result"
    }
   ],
   "source": [
    "datetime_object"
   ]
  }
 ],
 "metadata": {
  "kernelspec": {
   "display_name": "Python 3.9.13 ('crawler': conda)",
   "language": "python",
   "name": "python3"
  },
  "language_info": {
   "codemirror_mode": {
    "name": "ipython",
    "version": 3
   },
   "file_extension": ".py",
   "mimetype": "text/x-python",
   "name": "python",
   "nbconvert_exporter": "python",
   "pygments_lexer": "ipython3",
   "version": "3.9.13"
  },
  "orig_nbformat": 4,
  "vscode": {
   "interpreter": {
    "hash": "b2dc22e76e284ab464081360829dde3d6b48cc27a4b5628e6baecf4a65e43cea"
   }
  }
 },
 "nbformat": 4,
 "nbformat_minor": 2
}
