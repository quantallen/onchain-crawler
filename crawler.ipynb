{
 "cells": [
  {
   "cell_type": "code",
   "execution_count": 72,
   "metadata": {},
   "outputs": [
    {
     "name": "stdout",
     "output_type": "stream",
     "text": [
      "\n"
     ]
    },
    {
     "name": "stderr",
     "output_type": "stream",
     "text": [
      "[WDM] - ====== WebDriver manager ======\n",
      "[WDM] - Current google-chrome version is 103.0.5060\n",
      "[WDM] - Get LATEST chromedriver version for 103.0.5060 google-chrome\n",
      "[WDM] - Driver [/Users/allen.kuo/.wdm/drivers/chromedriver/mac64/103.0.5060.134/chromedriver] found in cache\n",
      "/var/folders/nz/kdjg06xx7m92snslrqtd87v8qy9p5w/T/ipykernel_97148/3102712797.py:5: DeprecationWarning: executable_path has been deprecated, please pass in a Service object\n",
      "  driver = webdriver.Chrome(ChromeDriverManager().install())\n"
     ]
    },
    {
     "ename": "NoSuchWindowException",
     "evalue": "Message: no such window: target window already closed\nfrom unknown error: web view not found\n  (Session info: chrome=103.0.5060.134)\nStacktrace:\n0   chromedriver                        0x0000000100ad1ef9 chromedriver + 4480761\n1   chromedriver                        0x0000000100a5d5d3 chromedriver + 4003283\n2   chromedriver                        0x00000001006f0338 chromedriver + 410424\n3   chromedriver                        0x00000001006d1788 chromedriver + 284552\n4   chromedriver                        0x0000000100746f7b chromedriver + 765819\n5   chromedriver                        0x0000000100755b5f chromedriver + 826207\n6   chromedriver                        0x0000000100743953 chromedriver + 751955\n7   chromedriver                        0x0000000100719cd5 chromedriver + 580821\n8   chromedriver                        0x000000010071ad25 chromedriver + 584997\n9   chromedriver                        0x0000000100aa302d chromedriver + 4288557\n10  chromedriver                        0x0000000100aa81b3 chromedriver + 4309427\n11  chromedriver                        0x0000000100aad23f chromedriver + 4330047\n12  chromedriver                        0x0000000100aa8dfa chromedriver + 4312570\n13  chromedriver                        0x0000000100a81fef chromedriver + 4153327\n14  chromedriver                        0x0000000100ac2d78 chromedriver + 4418936\n15  chromedriver                        0x0000000100ac2eff chromedriver + 4419327\n16  chromedriver                        0x0000000100ad9ab5 chromedriver + 4512437\n17  libsystem_pthread.dylib             0x00007ff8041854e1 _pthread_start + 125\n18  libsystem_pthread.dylib             0x00007ff804180f6b thread_start + 15\n",
     "output_type": "error",
     "traceback": [
      "\u001b[0;31m---------------------------------------------------------------------------\u001b[0m",
      "\u001b[0;31mNoSuchWindowException\u001b[0m                     Traceback (most recent call last)",
      "\u001b[1;32m/Users/allen.kuo/crawler_onchain/crawler.ipynb Cell 1'\u001b[0m in \u001b[0;36m<cell line: 9>\u001b[0;34m()\u001b[0m\n\u001b[1;32m      <a href='vscode-notebook-cell:/Users/allen.kuo/crawler_onchain/crawler.ipynb#ch0000000?line=5'>6</a>\u001b[0m driver\u001b[39m.\u001b[39mimplicitly_wait(\u001b[39m10\u001b[39m)\n\u001b[1;32m      <a href='vscode-notebook-cell:/Users/allen.kuo/crawler_onchain/crawler.ipynb#ch0000000?line=7'>8</a>\u001b[0m driver\u001b[39m.\u001b[39mget(\u001b[39m'\u001b[39m\u001b[39mhttps://www.comp.xyz/latest\u001b[39m\u001b[39m'\u001b[39m)\n\u001b[0;32m----> <a href='vscode-notebook-cell:/Users/allen.kuo/crawler_onchain/crawler.ipynb#ch0000000?line=8'>9</a>\u001b[0m find_href \u001b[39m=\u001b[39m driver\u001b[39m.\u001b[39;49mfind_elements(By\u001b[39m.\u001b[39;49mCLASS_NAME, \u001b[39m\"\u001b[39;49m\u001b[39mlink-top-line\u001b[39;49m\u001b[39m\"\u001b[39;49m)\n\u001b[1;32m     <a href='vscode-notebook-cell:/Users/allen.kuo/crawler_onchain/crawler.ipynb#ch0000000?line=9'>10</a>\u001b[0m find_date \u001b[39m=\u001b[39m driver\u001b[39m.\u001b[39mfind_elements(By\u001b[39m.\u001b[39mCLASS_NAME, \u001b[39m\"\u001b[39m\u001b[39mrelative-date\u001b[39m\u001b[39m\"\u001b[39m)\n\u001b[1;32m     <a href='vscode-notebook-cell:/Users/allen.kuo/crawler_onchain/crawler.ipynb#ch0000000?line=10'>11</a>\u001b[0m list_of_url \u001b[39m=\u001b[39m []\n",
      "File \u001b[0;32m~/opt/anaconda3/envs/styleme/lib/python3.8/site-packages/selenium/webdriver/remote/webdriver.py:1284\u001b[0m, in \u001b[0;36mWebDriver.find_elements\u001b[0;34m(self, by, value)\u001b[0m\n\u001b[1;32m   <a href='file:///Users/allen.kuo/opt/anaconda3/envs/styleme/lib/python3.8/site-packages/selenium/webdriver/remote/webdriver.py?line=1279'>1280</a>\u001b[0m     value \u001b[39m=\u001b[39m \u001b[39m'\u001b[39m\u001b[39m[name=\u001b[39m\u001b[39m\"\u001b[39m\u001b[39m%s\u001b[39;00m\u001b[39m\"\u001b[39m\u001b[39m]\u001b[39m\u001b[39m'\u001b[39m \u001b[39m%\u001b[39m value\n\u001b[1;32m   <a href='file:///Users/allen.kuo/opt/anaconda3/envs/styleme/lib/python3.8/site-packages/selenium/webdriver/remote/webdriver.py?line=1281'>1282</a>\u001b[0m \u001b[39m# Return empty list if driver returns null\u001b[39;00m\n\u001b[1;32m   <a href='file:///Users/allen.kuo/opt/anaconda3/envs/styleme/lib/python3.8/site-packages/selenium/webdriver/remote/webdriver.py?line=1282'>1283</a>\u001b[0m \u001b[39m# See https://github.com/SeleniumHQ/selenium/issues/4555\u001b[39;00m\n\u001b[0;32m-> <a href='file:///Users/allen.kuo/opt/anaconda3/envs/styleme/lib/python3.8/site-packages/selenium/webdriver/remote/webdriver.py?line=1283'>1284</a>\u001b[0m \u001b[39mreturn\u001b[39;00m \u001b[39mself\u001b[39;49m\u001b[39m.\u001b[39;49mexecute(Command\u001b[39m.\u001b[39;49mFIND_ELEMENTS, {\n\u001b[1;32m   <a href='file:///Users/allen.kuo/opt/anaconda3/envs/styleme/lib/python3.8/site-packages/selenium/webdriver/remote/webdriver.py?line=1284'>1285</a>\u001b[0m     \u001b[39m'\u001b[39;49m\u001b[39musing\u001b[39;49m\u001b[39m'\u001b[39;49m: by,\n\u001b[1;32m   <a href='file:///Users/allen.kuo/opt/anaconda3/envs/styleme/lib/python3.8/site-packages/selenium/webdriver/remote/webdriver.py?line=1285'>1286</a>\u001b[0m     \u001b[39m'\u001b[39;49m\u001b[39mvalue\u001b[39;49m\u001b[39m'\u001b[39;49m: value})[\u001b[39m'\u001b[39m\u001b[39mvalue\u001b[39m\u001b[39m'\u001b[39m] \u001b[39mor\u001b[39;00m []\n",
      "File \u001b[0;32m~/opt/anaconda3/envs/styleme/lib/python3.8/site-packages/selenium/webdriver/remote/webdriver.py:430\u001b[0m, in \u001b[0;36mWebDriver.execute\u001b[0;34m(self, driver_command, params)\u001b[0m\n\u001b[1;32m    <a href='file:///Users/allen.kuo/opt/anaconda3/envs/styleme/lib/python3.8/site-packages/selenium/webdriver/remote/webdriver.py?line=427'>428</a>\u001b[0m response \u001b[39m=\u001b[39m \u001b[39mself\u001b[39m\u001b[39m.\u001b[39mcommand_executor\u001b[39m.\u001b[39mexecute(driver_command, params)\n\u001b[1;32m    <a href='file:///Users/allen.kuo/opt/anaconda3/envs/styleme/lib/python3.8/site-packages/selenium/webdriver/remote/webdriver.py?line=428'>429</a>\u001b[0m \u001b[39mif\u001b[39;00m response:\n\u001b[0;32m--> <a href='file:///Users/allen.kuo/opt/anaconda3/envs/styleme/lib/python3.8/site-packages/selenium/webdriver/remote/webdriver.py?line=429'>430</a>\u001b[0m     \u001b[39mself\u001b[39;49m\u001b[39m.\u001b[39;49merror_handler\u001b[39m.\u001b[39;49mcheck_response(response)\n\u001b[1;32m    <a href='file:///Users/allen.kuo/opt/anaconda3/envs/styleme/lib/python3.8/site-packages/selenium/webdriver/remote/webdriver.py?line=430'>431</a>\u001b[0m     response[\u001b[39m'\u001b[39m\u001b[39mvalue\u001b[39m\u001b[39m'\u001b[39m] \u001b[39m=\u001b[39m \u001b[39mself\u001b[39m\u001b[39m.\u001b[39m_unwrap_value(\n\u001b[1;32m    <a href='file:///Users/allen.kuo/opt/anaconda3/envs/styleme/lib/python3.8/site-packages/selenium/webdriver/remote/webdriver.py?line=431'>432</a>\u001b[0m         response\u001b[39m.\u001b[39mget(\u001b[39m'\u001b[39m\u001b[39mvalue\u001b[39m\u001b[39m'\u001b[39m, \u001b[39mNone\u001b[39;00m))\n\u001b[1;32m    <a href='file:///Users/allen.kuo/opt/anaconda3/envs/styleme/lib/python3.8/site-packages/selenium/webdriver/remote/webdriver.py?line=432'>433</a>\u001b[0m     \u001b[39mreturn\u001b[39;00m response\n",
      "File \u001b[0;32m~/opt/anaconda3/envs/styleme/lib/python3.8/site-packages/selenium/webdriver/remote/errorhandler.py:247\u001b[0m, in \u001b[0;36mErrorHandler.check_response\u001b[0;34m(self, response)\u001b[0m\n\u001b[1;32m    <a href='file:///Users/allen.kuo/opt/anaconda3/envs/styleme/lib/python3.8/site-packages/selenium/webdriver/remote/errorhandler.py?line=244'>245</a>\u001b[0m         alert_text \u001b[39m=\u001b[39m value[\u001b[39m'\u001b[39m\u001b[39malert\u001b[39m\u001b[39m'\u001b[39m]\u001b[39m.\u001b[39mget(\u001b[39m'\u001b[39m\u001b[39mtext\u001b[39m\u001b[39m'\u001b[39m)\n\u001b[1;32m    <a href='file:///Users/allen.kuo/opt/anaconda3/envs/styleme/lib/python3.8/site-packages/selenium/webdriver/remote/errorhandler.py?line=245'>246</a>\u001b[0m     \u001b[39mraise\u001b[39;00m exception_class(message, screen, stacktrace, alert_text)  \u001b[39m# type: ignore[call-arg]  # mypy is not smart enough here\u001b[39;00m\n\u001b[0;32m--> <a href='file:///Users/allen.kuo/opt/anaconda3/envs/styleme/lib/python3.8/site-packages/selenium/webdriver/remote/errorhandler.py?line=246'>247</a>\u001b[0m \u001b[39mraise\u001b[39;00m exception_class(message, screen, stacktrace)\n",
      "\u001b[0;31mNoSuchWindowException\u001b[0m: Message: no such window: target window already closed\nfrom unknown error: web view not found\n  (Session info: chrome=103.0.5060.134)\nStacktrace:\n0   chromedriver                        0x0000000100ad1ef9 chromedriver + 4480761\n1   chromedriver                        0x0000000100a5d5d3 chromedriver + 4003283\n2   chromedriver                        0x00000001006f0338 chromedriver + 410424\n3   chromedriver                        0x00000001006d1788 chromedriver + 284552\n4   chromedriver                        0x0000000100746f7b chromedriver + 765819\n5   chromedriver                        0x0000000100755b5f chromedriver + 826207\n6   chromedriver                        0x0000000100743953 chromedriver + 751955\n7   chromedriver                        0x0000000100719cd5 chromedriver + 580821\n8   chromedriver                        0x000000010071ad25 chromedriver + 584997\n9   chromedriver                        0x0000000100aa302d chromedriver + 4288557\n10  chromedriver                        0x0000000100aa81b3 chromedriver + 4309427\n11  chromedriver                        0x0000000100aad23f chromedriver + 4330047\n12  chromedriver                        0x0000000100aa8dfa chromedriver + 4312570\n13  chromedriver                        0x0000000100a81fef chromedriver + 4153327\n14  chromedriver                        0x0000000100ac2d78 chromedriver + 4418936\n15  chromedriver                        0x0000000100ac2eff chromedriver + 4419327\n16  chromedriver                        0x0000000100ad9ab5 chromedriver + 4512437\n17  libsystem_pthread.dylib             0x00007ff8041854e1 _pthread_start + 125\n18  libsystem_pthread.dylib             0x00007ff804180f6b thread_start + 15\n"
     ]
    }
   ],
   "source": [
    "from selenium import webdriver\n",
    "from webdriver_manager.chrome import ChromeDriverManager\n",
    "from selenium.webdriver.common.by import By\n",
    "\n",
    "driver = webdriver.Chrome(ChromeDriverManager().install())\n",
    "driver.implicitly_wait(10)\n",
    "\n",
    "driver.get('https://www.comp.xyz/latest')\n",
    "find_href = driver.find_elements(By.CLASS_NAME, \"link-top-line\")\n",
    "find_date = driver.find_elements(By.CLASS_NAME, \"relative-date\")\n",
    "list_of_url = []\n",
    "list_of_date = []\n",
    "for link in find_href:\n",
    "    a = link.find_element(By.TAG_NAME, 'a').get_attribute('href')\n",
    "    list_of_url.append(a)\n",
    "\n",
    "\n",
    "driver.quit()"
   ]
  },
  {
   "cell_type": "code",
   "execution_count": 31,
   "metadata": {},
   "outputs": [
    {
     "name": "stdout",
     "output_type": "stream",
     "text": [
      "\n"
     ]
    },
    {
     "name": "stderr",
     "output_type": "stream",
     "text": [
      "[WDM] - ====== WebDriver manager ======\n",
      "[WDM] - Current google-chrome version is 103.0.5060\n",
      "[WDM] - Get LATEST chromedriver version for 103.0.5060 google-chrome\n",
      "[WDM] - Driver [/Users/allen.kuo/.wdm/drivers/chromedriver/mac64/103.0.5060.134/chromedriver] found in cache\n",
      "/var/folders/nz/kdjg06xx7m92snslrqtd87v8qy9p5w/T/ipykernel_97148/217530890.py:8: DeprecationWarning: executable_path has been deprecated, please pass in a Service object\n",
      "  driver = webdriver.Chrome(ChromeDriverManager().install())\n"
     ]
    }
   ],
   "source": [
    "from selenium import webdriver\n",
    "from webdriver_manager.chrome import ChromeDriverManager\n",
    "from selenium.webdriver.common.by import By\n",
    "from selenium.webdriver.firefox.options import Options\n",
    "\n",
    "options = Options()\n",
    "options.add_argument('--disable-blink-features=AutomationControlled')\n",
    "driver = webdriver.Chrome(ChromeDriverManager().install())\n",
    "driver.implicitly_wait(6)\n",
    "\n",
    "driver.get('https://governance.aave.com/c/governance/4')\n",
    "find_date = driver.find_elements(By.CLASS_NAME, \"post-activity\")\n",
    "list_of_date = []\n",
    "for link in find_date:\n",
    "    a = link.find_element(By.TAG_NAME, 'span').get_attribute('data-time')\n",
    "    list_of_date.append(a)\n",
    "\n",
    "\n",
    "driver.quit()"
   ]
  },
  {
   "cell_type": "code",
   "execution_count": 86,
   "metadata": {},
   "outputs": [
    {
     "name": "stdout",
     "output_type": "stream",
     "text": [
      "\n"
     ]
    },
    {
     "name": "stderr",
     "output_type": "stream",
     "text": [
      "[WDM] - ====== WebDriver manager ======\n",
      "[WDM] - Current google-chrome version is 103.0.5060\n",
      "[WDM] - Get LATEST chromedriver version for 103.0.5060 google-chrome\n",
      "[WDM] - Driver [/Users/allen.kuo/.wdm/drivers/chromedriver/mac64/103.0.5060.134/chromedriver] found in cache\n",
      "/var/folders/nz/kdjg06xx7m92snslrqtd87v8qy9p5w/T/ipykernel_97148/2995787061.py:5: DeprecationWarning: executable_path has been deprecated, please pass in a Service object\n",
      "  driver = webdriver.Chrome(ChromeDriverManager().install())\n"
     ]
    }
   ],
   "source": [
    "from selenium import webdriver\n",
    "from webdriver_manager.chrome import ChromeDriverManager\n",
    "from selenium.webdriver.common.by import By\n",
    "\n",
    "driver = webdriver.Chrome(ChromeDriverManager().install())\n",
    "driver.implicitly_wait(6)\n",
    "\n",
    "driver.get('https://forum.balancer.fi/latest')\n",
    "find_href = driver.find_elements(By.CLASS_NAME, \"link-top-line\")\n",
    "find_date = driver.find_elements(By.CLASS_NAME, \"post-activity\")\n",
    "list_of_url = []\n",
    "list_of_date = []\n",
    "for link in find_href:\n",
    "    a = link.find_element(By.TAG_NAME, 'a').get_attribute(\"textContent\")\n",
    "    list_of_url.append(a)\n",
    "for link in find_date:\n",
    "    a = link.find_element(By.TAG_NAME, 'span').get_attribute('data-time')\n",
    "    list_of_date.append(a)\n",
    "\n",
    "\n",
    "driver.quit()"
   ]
  },
  {
   "cell_type": "code",
   "execution_count": 99,
   "metadata": {},
   "outputs": [
    {
     "name": "stdout",
     "output_type": "stream",
     "text": [
      "\n"
     ]
    },
    {
     "name": "stderr",
     "output_type": "stream",
     "text": [
      "[WDM] - ====== WebDriver manager ======\n",
      "[WDM] - Current google-chrome version is 103.0.5060\n",
      "[WDM] - Get LATEST chromedriver version for 103.0.5060 google-chrome\n",
      "[WDM] - Driver [/Users/allen.kuo/.wdm/drivers/chromedriver/mac64/103.0.5060.134/chromedriver] found in cache\n",
      "/var/folders/nz/kdjg06xx7m92snslrqtd87v8qy9p5w/T/ipykernel_97148/928906426.py:5: DeprecationWarning: executable_path has been deprecated, please pass in a Service object\n",
      "  driver = webdriver.Chrome(ChromeDriverManager().install())\n"
     ]
    },
    {
     "name": "stdout",
     "output_type": "stream",
     "text": [
      "[<selenium.webdriver.remote.webelement.WebElement (session=\"4740e76d53e206f480f6d2d86a1089a2\", element=\"8914b22f-36e0-4f76-8eb0-293c7d61940f\")>, <selenium.webdriver.remote.webelement.WebElement (session=\"4740e76d53e206f480f6d2d86a1089a2\", element=\"d331354e-9d95-4ff6-84b0-4fb9fe581e95\")>, <selenium.webdriver.remote.webelement.WebElement (session=\"4740e76d53e206f480f6d2d86a1089a2\", element=\"459540ac-5cfe-4bbe-9da3-65968d75e575\")>, <selenium.webdriver.remote.webelement.WebElement (session=\"4740e76d53e206f480f6d2d86a1089a2\", element=\"7464f2f5-ed88-43f6-b1a0-adcc47135aa2\")>, <selenium.webdriver.remote.webelement.WebElement (session=\"4740e76d53e206f480f6d2d86a1089a2\", element=\"45610eef-7cf9-4768-b52e-76cacbbf1361\")>, <selenium.webdriver.remote.webelement.WebElement (session=\"4740e76d53e206f480f6d2d86a1089a2\", element=\"c5de52e0-bb77-49a8-9637-ee4f5728ceae\")>, <selenium.webdriver.remote.webelement.WebElement (session=\"4740e76d53e206f480f6d2d86a1089a2\", element=\"7b1eee96-ea52-4810-90d3-d4a15d10f9ae\")>, <selenium.webdriver.remote.webelement.WebElement (session=\"4740e76d53e206f480f6d2d86a1089a2\", element=\"c6133ea2-3823-410f-ba45-0a50126143a4\")>, <selenium.webdriver.remote.webelement.WebElement (session=\"4740e76d53e206f480f6d2d86a1089a2\", element=\"22009896-ca9b-4900-bbf5-bb8cf2f9fdd0\")>, <selenium.webdriver.remote.webelement.WebElement (session=\"4740e76d53e206f480f6d2d86a1089a2\", element=\"0e81ee11-5ce1-4fe2-b3b3-744c97ab8058\")>, <selenium.webdriver.remote.webelement.WebElement (session=\"4740e76d53e206f480f6d2d86a1089a2\", element=\"9c4a3eea-80fd-4229-aa0a-019048e2a930\")>, <selenium.webdriver.remote.webelement.WebElement (session=\"4740e76d53e206f480f6d2d86a1089a2\", element=\"45c2948e-39f9-4779-96c2-72d613254870\")>, <selenium.webdriver.remote.webelement.WebElement (session=\"4740e76d53e206f480f6d2d86a1089a2\", element=\"22fd5c83-b62b-46d9-8141-c55b221dfe26\")>, <selenium.webdriver.remote.webelement.WebElement (session=\"4740e76d53e206f480f6d2d86a1089a2\", element=\"6d9824fb-41b2-413f-9a0e-952beb6bbf5d\")>, <selenium.webdriver.remote.webelement.WebElement (session=\"4740e76d53e206f480f6d2d86a1089a2\", element=\"3a80b2f4-32db-42c4-a3d9-867e3f7bf5d0\")>, <selenium.webdriver.remote.webelement.WebElement (session=\"4740e76d53e206f480f6d2d86a1089a2\", element=\"1064a4bf-33c3-4463-92d0-8e129f566a25\")>, <selenium.webdriver.remote.webelement.WebElement (session=\"4740e76d53e206f480f6d2d86a1089a2\", element=\"76057dc4-f616-466b-bf15-70c49e5e2e35\")>, <selenium.webdriver.remote.webelement.WebElement (session=\"4740e76d53e206f480f6d2d86a1089a2\", element=\"12adee68-bc58-4706-86b1-338362910f82\")>, <selenium.webdriver.remote.webelement.WebElement (session=\"4740e76d53e206f480f6d2d86a1089a2\", element=\"a8decab7-b58c-4ce9-93d2-23a0a62b5a66\")>, <selenium.webdriver.remote.webelement.WebElement (session=\"4740e76d53e206f480f6d2d86a1089a2\", element=\"c1896b20-236d-4cbb-9f69-51aef7d04e02\")>]\n"
     ]
    }
   ],
   "source": [
    "from selenium import webdriver\n",
    "from webdriver_manager.chrome import ChromeDriverManager\n",
    "from selenium.webdriver.common.by import By\n",
    "\n",
    "driver = webdriver.Chrome(ChromeDriverManager().install())\n",
    "driver.implicitly_wait(6)\n",
    "\n",
    "driver.get('https://forum.olympusdao.finance/all')\n",
    "find_href = driver.find_elements(By.CLASS_NAME, \"DiscussionListItem-main\")\n",
    "print(find_href)\n",
    "#find_date = driver.find_elements(By.CLASS_NAME, \"post-activity\")\n",
    "list_of_url = []\n",
    "list_of_date = []\n",
    "for link in find_href:\n",
    "    #a = link.find_element(By.TAG_NAME, 'a').get_attribute('href')\n",
    "    a = link.get_attribute('href')\n",
    "    list_of_url.append(a)\n",
    "'''\n",
    "for link in find_date:\n",
    "    a = link.find_element(By.TAG_NAME, 'span').get_attribute('data-time')\n",
    "    list_of_date.append(a)\n",
    "'''\n",
    "\n",
    "\n",
    "driver.quit()"
   ]
  },
  {
   "cell_type": "code",
   "execution_count": null,
   "metadata": {},
   "outputs": [],
   "source": [
    "from selenium import webdriver\n",
    "from webdriver_manager.chrome import ChromeDriverManager\n",
    "from selenium.webdriver.common.by import By\n",
    "\n",
    "driver = webdriver.Chrome(ChromeDriverManager().install())\n",
    "driver.implicitly_wait(6)\n",
    "\n",
    "driver.get('https://forum.olympusdao.finance/all')\n",
    "find_date = driver.find_elements(By.CLASS_NAME, \"item-terminalPost\")\n",
    "print(find_date)\n",
    "list_of_url = []\n",
    "list_of_date = []\n",
    "for link in find_href:\n",
    "    #a = link.find_element(By.TAG_NAME, 'a').get_attribute('href')\n",
    "    a = link.get_attribute('href')\n",
    "    list_of_url.append(a)\n",
    "'''\n",
    "for link in find_date:\n",
    "    a = link.find_element(By.TAG_NAME, 'span').get_attribute('data-time')\n",
    "    list_of_date.append(a)\n",
    "'''\n",
    "\n",
    "\n",
    "driver.quit()"
   ]
  },
  {
   "cell_type": "code",
   "execution_count": 100,
   "metadata": {},
   "outputs": [
    {
     "data": {
      "text/plain": [
       "['https://forum.olympusdao.finance/d/294-monthly-policy-reports',\n",
       " 'https://forum.olympusdao.finance/d/1053-monthly-treasury-reports',\n",
       " 'https://forum.olympusdao.finance/d/919-please-use-our-discord-for-general-enquiry',\n",
       " 'https://forum.olympusdao.finance/d/918-please-use-our-discord-for-general-enquiry',\n",
       " 'https://forum.olympusdao.finance/d/917-please-use-our-discord-for-general-enquiry',\n",
       " 'https://forum.olympusdao.finance/d/916-please-use-our-discord-for-general-enquiry',\n",
       " 'https://forum.olympusdao.finance/d/126-treasury-proposal-rules-and-guidelines',\n",
       " 'https://forum.olympusdao.finance/d/9-feedback-rules-and-guidelines',\n",
       " 'https://forum.olympusdao.finance/d/8-community-engagement-rules-and-guidelines',\n",
       " 'https://forum.olympusdao.finance/d/6-proposal-rules-and-guidelines',\n",
       " 'https://forum.olympusdao.finance/d/5-general-rules-and-guidelines',\n",
       " 'https://forum.olympusdao.finance/d/1263-request-for-comment-new-bug-bounty-oip-proposal',\n",
       " 'https://forum.olympusdao.finance/d/1265-httpsreba-mcentire-cbd-gummiescompanysite',\n",
       " 'https://forum.olympusdao.finance/d/1262-epns-olympusdao-integration-for-push-notifications',\n",
       " 'https://forum.olympusdao.finance/d/1259-pop-airdrop-to-strategic-partners',\n",
       " 'https://forum.olympusdao.finance/d/1250-oip-94a-amend-interim-ranged-stability-policy-levers',\n",
       " 'https://forum.olympusdao.finance/d/1156-oip-91-olympus-governance-council',\n",
       " 'https://forum.olympusdao.finance/d/1237-replace-apy-with-more-fitting-name-as-a-means-of-clear-communication',\n",
       " 'https://forum.olympusdao.finance/d/1243-oip-104-deploy-permissionless-op-as-bond-protocol',\n",
       " 'https://forum.olympusdao.finance/d/1245-oip-105-aura-olympusdao-partnership']"
      ]
     },
     "execution_count": 100,
     "metadata": {},
     "output_type": "execute_result"
    }
   ],
   "source": [
    "list_of_url\n"
   ]
  },
  {
   "cell_type": "code",
   "execution_count": 83,
   "metadata": {},
   "outputs": [
    {
     "data": {
      "text/plain": [
       "30"
      ]
     },
     "execution_count": 83,
     "metadata": {},
     "output_type": "execute_result"
    }
   ],
   "source": [
    "len(list_of_url)"
   ]
  },
  {
   "cell_type": "code",
   "execution_count": 30,
   "metadata": {},
   "outputs": [
    {
     "data": {
      "text/plain": [
       "[<selenium.webdriver.remote.webelement.WebElement (session=\"a45a8465a142f692e35543a8f304c0c0\", element=\"f9118b41-8d8f-455e-bc94-6d63e6414495\")>,\n",
       " <selenium.webdriver.remote.webelement.WebElement (session=\"a45a8465a142f692e35543a8f304c0c0\", element=\"71c67d73-6f35-4b72-95e5-1b2ef25b25cc\")>,\n",
       " <selenium.webdriver.remote.webelement.WebElement (session=\"a45a8465a142f692e35543a8f304c0c0\", element=\"ca2fec9b-ee4a-48df-a8d5-a787b9a79f68\")>,\n",
       " <selenium.webdriver.remote.webelement.WebElement (session=\"a45a8465a142f692e35543a8f304c0c0\", element=\"61700d60-dd1f-4389-b04a-71d736f409f8\")>,\n",
       " <selenium.webdriver.remote.webelement.WebElement (session=\"a45a8465a142f692e35543a8f304c0c0\", element=\"82a88260-26a7-471e-8278-4eaf4ecc012f\")>,\n",
       " <selenium.webdriver.remote.webelement.WebElement (session=\"a45a8465a142f692e35543a8f304c0c0\", element=\"accd5b33-7adf-4c15-87d2-4b2bbe548423\")>,\n",
       " <selenium.webdriver.remote.webelement.WebElement (session=\"a45a8465a142f692e35543a8f304c0c0\", element=\"4c418fdd-d89f-44b0-97bb-d0017ec70ece\")>,\n",
       " <selenium.webdriver.remote.webelement.WebElement (session=\"a45a8465a142f692e35543a8f304c0c0\", element=\"f2093573-fb77-40c7-be5b-aa4b38c66e70\")>,\n",
       " <selenium.webdriver.remote.webelement.WebElement (session=\"a45a8465a142f692e35543a8f304c0c0\", element=\"69538500-d1a4-4f01-b382-65c79d43d6d0\")>,\n",
       " <selenium.webdriver.remote.webelement.WebElement (session=\"a45a8465a142f692e35543a8f304c0c0\", element=\"2af1f500-6bf6-4aee-bca8-66ffe1b80020\")>,\n",
       " <selenium.webdriver.remote.webelement.WebElement (session=\"a45a8465a142f692e35543a8f304c0c0\", element=\"b937020f-a60d-4c62-80c5-60079dd194e1\")>,\n",
       " <selenium.webdriver.remote.webelement.WebElement (session=\"a45a8465a142f692e35543a8f304c0c0\", element=\"d57994cb-8be0-4284-bce2-7aa75acd7040\")>,\n",
       " <selenium.webdriver.remote.webelement.WebElement (session=\"a45a8465a142f692e35543a8f304c0c0\", element=\"5f8bb010-48d7-4a14-801e-8ac09082e96a\")>,\n",
       " <selenium.webdriver.remote.webelement.WebElement (session=\"a45a8465a142f692e35543a8f304c0c0\", element=\"07e09505-6a98-4c19-aede-390184743f83\")>,\n",
       " <selenium.webdriver.remote.webelement.WebElement (session=\"a45a8465a142f692e35543a8f304c0c0\", element=\"f0ce7845-39c0-43b6-a035-e0e90171c058\")>,\n",
       " <selenium.webdriver.remote.webelement.WebElement (session=\"a45a8465a142f692e35543a8f304c0c0\", element=\"70f85ace-d36b-4e1b-af28-a6faab3d8a6e\")>,\n",
       " <selenium.webdriver.remote.webelement.WebElement (session=\"a45a8465a142f692e35543a8f304c0c0\", element=\"9721a1aa-f10d-47c6-9c22-f32e7d62f948\")>,\n",
       " <selenium.webdriver.remote.webelement.WebElement (session=\"a45a8465a142f692e35543a8f304c0c0\", element=\"49ab79eb-b6a1-49e2-9ef5-eff8fe55f0d9\")>,\n",
       " <selenium.webdriver.remote.webelement.WebElement (session=\"a45a8465a142f692e35543a8f304c0c0\", element=\"38c2952e-840a-4cdb-a855-397a4e87c09a\")>,\n",
       " <selenium.webdriver.remote.webelement.WebElement (session=\"a45a8465a142f692e35543a8f304c0c0\", element=\"c06a4854-4770-4f58-bc39-b8e896807b85\")>,\n",
       " <selenium.webdriver.remote.webelement.WebElement (session=\"a45a8465a142f692e35543a8f304c0c0\", element=\"59396bf6-d4b6-41f4-a9af-2934d97b3034\")>,\n",
       " <selenium.webdriver.remote.webelement.WebElement (session=\"a45a8465a142f692e35543a8f304c0c0\", element=\"41a4610e-0162-42fd-8d65-278d86117a2f\")>,\n",
       " <selenium.webdriver.remote.webelement.WebElement (session=\"a45a8465a142f692e35543a8f304c0c0\", element=\"bd62e193-2323-451f-90dc-bcd5a6742463\")>,\n",
       " <selenium.webdriver.remote.webelement.WebElement (session=\"a45a8465a142f692e35543a8f304c0c0\", element=\"87163d9d-2f6d-4658-a3cc-239773516f4b\")>,\n",
       " <selenium.webdriver.remote.webelement.WebElement (session=\"a45a8465a142f692e35543a8f304c0c0\", element=\"f97aec63-c787-463b-ae65-999e5c598b75\")>,\n",
       " <selenium.webdriver.remote.webelement.WebElement (session=\"a45a8465a142f692e35543a8f304c0c0\", element=\"3262ddd1-d3d0-424e-a5dc-44cc16d6e859\")>,\n",
       " <selenium.webdriver.remote.webelement.WebElement (session=\"a45a8465a142f692e35543a8f304c0c0\", element=\"fe6c9b40-2eca-4909-bfb1-46b00f1248f5\")>,\n",
       " <selenium.webdriver.remote.webelement.WebElement (session=\"a45a8465a142f692e35543a8f304c0c0\", element=\"773362cf-046e-4193-97ee-0314d39e1964\")>,\n",
       " <selenium.webdriver.remote.webelement.WebElement (session=\"a45a8465a142f692e35543a8f304c0c0\", element=\"2a79d19e-5593-4caa-8ba2-e6eb08494938\")>,\n",
       " <selenium.webdriver.remote.webelement.WebElement (session=\"a45a8465a142f692e35543a8f304c0c0\", element=\"01edd683-aa0b-4f02-a30a-980c4467cf94\")>]"
      ]
     },
     "execution_count": 30,
     "metadata": {},
     "output_type": "execute_result"
    }
   ],
   "source": [
    "find_date"
   ]
  },
  {
   "cell_type": "code",
   "execution_count": 77,
   "metadata": {},
   "outputs": [
    {
     "data": {
      "text/plain": [
       "30"
      ]
     },
     "execution_count": 77,
     "metadata": {},
     "output_type": "execute_result"
    }
   ],
   "source": [
    "len(list_of_date)"
   ]
  },
  {
   "cell_type": "code",
   "execution_count": 56,
   "metadata": {},
   "outputs": [
    {
     "name": "stdout",
     "output_type": "stream",
     "text": [
      "2022-06-23 05:00:04.239000\n",
      "2020-09-22 03:33:07.761000\n",
      "2022-08-02 03:13:50.120000\n",
      "2022-07-30 06:12:47.942000\n",
      "2022-07-29 22:36:00.980000\n",
      "2022-07-25 14:10:24.297000\n",
      "2022-07-22 22:25:43.538000\n",
      "2022-07-22 06:58:35.092000\n",
      "2022-07-21 04:55:35.867000\n",
      "2022-07-18 21:58:50.458000\n",
      "2022-07-18 21:42:39.045000\n",
      "2022-07-18 21:36:52.354000\n",
      "2022-07-17 19:51:00.744000\n",
      "2022-07-16 21:12:40.754000\n",
      "2022-07-15 23:38:01.022000\n",
      "2022-07-14 09:08:35.167000\n",
      "2022-07-13 11:41:15.926000\n",
      "2022-07-09 17:28:44.584000\n",
      "2022-07-09 17:00:00.375000\n",
      "2022-06-30 16:28:58.947000\n",
      "2022-06-30 16:28:51.569000\n",
      "2022-06-27 06:59:39.519000\n",
      "2022-06-24 23:36:41.608000\n",
      "2022-06-24 16:23:10.229000\n",
      "2022-06-23 04:35:52.191000\n",
      "2022-06-22 15:02:30.976000\n",
      "2022-06-07 04:19:02.142000\n",
      "2022-06-06 16:48:45.891000\n",
      "2022-06-03 16:31:37.478000\n",
      "2022-06-03 15:53:36.569000\n"
     ]
    }
   ],
   "source": [
    "from datetime import datetime\n",
    "for time in list_of_date :\n",
    "    print(datetime.fromtimestamp(int(time)/1000))"
   ]
  },
  {
   "cell_type": "code",
   "execution_count": null,
   "metadata": {},
   "outputs": [],
   "source": [
    "from bs4 import BeautifulSoup"
   ]
  },
  {
   "cell_type": "code",
   "execution_count": 57,
   "metadata": {},
   "outputs": [
    {
     "name": "stdout",
     "output_type": "stream",
     "text": [
      "\n"
     ]
    },
    {
     "name": "stderr",
     "output_type": "stream",
     "text": [
      "[WDM] - ====== WebDriver manager ======\n",
      "[WDM] - Current google-chrome version is 103.0.5060\n",
      "[WDM] - Get LATEST chromedriver version for 103.0.5060 google-chrome\n",
      "[WDM] - Driver [/Users/allen.kuo/.wdm/drivers/chromedriver/mac64/103.0.5060.134/chromedriver] found in cache\n",
      "/var/folders/nz/kdjg06xx7m92snslrqtd87v8qy9p5w/T/ipykernel_97148/1786107218.py:10: DeprecationWarning: executable_path has been deprecated, please pass in a Service object\n",
      "  driver = webdriver.Chrome(ChromeDriverManager().install(),chrome_options=option)\n",
      "/var/folders/nz/kdjg06xx7m92snslrqtd87v8qy9p5w/T/ipykernel_97148/1786107218.py:10: DeprecationWarning: use options instead of chrome_options\n",
      "  driver = webdriver.Chrome(ChromeDriverManager().install(),chrome_options=option)\n"
     ]
    }
   ],
   "source": [
    "from selenium import webdriver\n",
    "from webdriver_manager.chrome import ChromeDriverManager\n",
    "from selenium.webdriver.common.by import By\n",
    "from selenium.webdriver.firefox.options import Options\n",
    "\n",
    "options = Options()\n",
    "option = webdriver.ChromeOptions()\n",
    "option.add_argument('headless')\n",
    "#options.add_argument('--disable-blink-features=AutomationControlled')\n",
    "driver = webdriver.Chrome(ChromeDriverManager().install(),chrome_options=option)\n",
    "driver.implicitly_wait(6)\n",
    "\n",
    "driver.get('https://gov.uniswap.org/t/uniswap-governance-forum-rules/5142')\n",
    "contents = driver.find_element(By.CLASS_NAME, \"cooked\").text\n",
    "driver.quit()\n"
   ]
  },
  {
   "cell_type": "code",
   "execution_count": 84,
   "metadata": {},
   "outputs": [
    {
     "name": "stdout",
     "output_type": "stream",
     "text": [
      "\n"
     ]
    },
    {
     "name": "stderr",
     "output_type": "stream",
     "text": [
      "[WDM] - ====== WebDriver manager ======\n",
      "[WDM] - Current google-chrome version is 103.0.5060\n",
      "[WDM] - Get LATEST chromedriver version for 103.0.5060 google-chrome\n",
      "[WDM] - Driver [/Users/allen.kuo/.wdm/drivers/chromedriver/mac64/103.0.5060.134/chromedriver] found in cache\n",
      "/var/folders/nz/kdjg06xx7m92snslrqtd87v8qy9p5w/T/ipykernel_97148/1270098895.py:7: DeprecationWarning: executable_path has been deprecated, please pass in a Service object\n",
      "  driver = webdriver.Chrome(ChromeDriverManager().install(),chrome_options=option)\n",
      "/var/folders/nz/kdjg06xx7m92snslrqtd87v8qy9p5w/T/ipykernel_97148/1270098895.py:7: DeprecationWarning: use options instead of chrome_options\n",
      "  driver = webdriver.Chrome(ChromeDriverManager().install(),chrome_options=option)\n"
     ]
    },
    {
     "name": "stdout",
     "output_type": "stream",
     "text": [
      "\n"
     ]
    },
    {
     "name": "stderr",
     "output_type": "stream",
     "text": [
      "[WDM] - ====== WebDriver manager ======\n",
      "[WDM] - Current google-chrome version is 103.0.5060\n",
      "[WDM] - Get LATEST chromedriver version for 103.0.5060 google-chrome\n",
      "[WDM] - Driver [/Users/allen.kuo/.wdm/drivers/chromedriver/mac64/103.0.5060.134/chromedriver] found in cache\n"
     ]
    },
    {
     "name": "stdout",
     "output_type": "stream",
     "text": [
      "\n"
     ]
    },
    {
     "name": "stderr",
     "output_type": "stream",
     "text": [
      "[WDM] - ====== WebDriver manager ======\n",
      "[WDM] - Current google-chrome version is 103.0.5060\n",
      "[WDM] - Get LATEST chromedriver version for 103.0.5060 google-chrome\n",
      "[WDM] - Driver [/Users/allen.kuo/.wdm/drivers/chromedriver/mac64/103.0.5060.134/chromedriver] found in cache\n"
     ]
    }
   ],
   "source": [
    "all_contents = []\n",
    "for u in list_of_url[:3] :\n",
    "    options = Options()\n",
    "    option = webdriver.ChromeOptions()\n",
    "    option.add_argument('headless')\n",
    "    #options.add_argument('--disable-blink-features=AutomationControlled')\n",
    "    driver = webdriver.Chrome(ChromeDriverManager().install(),chrome_options=option)\n",
    "    driver.implicitly_wait(6)\n",
    "    driver.get(u)\n",
    "    contents = driver.find_element(By.CLASS_NAME, \"cooked\").text\n",
    "    all_contents.append(contents)\n",
    "    driver.quit()\n"
   ]
  },
  {
   "cell_type": "code",
   "execution_count": 76,
   "metadata": {},
   "outputs": [
    {
     "data": {
      "text/plain": [
       "'CGP 2.0 - Delegated Domain Allocation\\nFirstly, thank you @adam_b_compound , @sukernik , @TylerEther @arr00 , Sovereign Singal 3 and Sam Simmons 4 for reviewing the proposal. It would not have shaped this way, if not for your valuable inputs.\\nSummary\\nWe propose a Compound Ecosystem Fund should be launched to find and fund a wide variety of teams building on Compound\\nWe propose a budget of $1.5M spread across 2 quarters. We are open to iterating this budget amount based on the response from the community.\\nWe additionally propose this budget be managed by 5 individuals - each managing $300K (domain allocator). Each of these individuals would have expertise and builder-networks in their respective domains.\\nThe performance of each of these domain allocators will be publicly viewable and auditable using rich dashboards.\\nEnd of every quarter the Compound community can come together to vote to replace, continue or increase budgets to each domain allocator.\\nWe (Questbook.xyz 13) will help facilitate setting up these domain allocators and provide the tooling to run the grant program in an efficient and transparent way. We have previously/currently set up the grants process for Polygon, Solana, Celo and Aave.\\nPurpose\\nAn active grant program is a great way to attract and incentivize builders to build on Compound. The goal of this proposal is to benefit all the stakeholders - the builders, the token holders, and the people running the grants DAO.\\nRunning the grants DAOs with a central committee run in to the following problems that this proposal aims to solve.\\nCommittee blind spots - It is unfair to expect any grant committee member to have expertise across the various domains. It becomes impossible or inefficient to judge projects that may lie outside the committee’s expertise and may still be valuable to the Compound ecosystem. By delegating capital and decision-making to people on ground, we can engage the community to proliferate the ideas and projects that further the protocol.\\nManager burnout - A single committee can handle only so many applications at any point in time. By not delegating and decentralizing the capital allocation, the grant program has a single point of failure.\\nInadequate Tooling - Lack of tools and resources to effectively manage an on-chain governance process. Lack of tools and resources to effectively manage the grants workflows on-chain. Most of the grants programs currently use spreadsheets to manage their workflows with hardly any transperancy on the fund disbursals and application reviews.\\nBy having domain allocators we will be able to delegate the outreach and disbursements to members of the community who are the closest to builders. Giving them access to capital and authority to disburse will go a long way in improving efficiency and reviving the grant program for Compound.\\nSpecifically, this program aims to\\nGrow Compound’s grant program - measured by the number of builders applying and building on top of Compound\\nDelegate capital allocation - to identify, attract and fund projects/builders that the grant program would otherwise not have funded by delegating capital allocation to members of the community rather than a central disbursing committee.\\nStrengthen the builder community in the bear market - a crucial component of the community is to keep the builder activity alive even during the bear market. The building keeps innovation and optimism in an otherwise grim market condition. It also drives participation and transparency for the broader community.\\nProgram Design\\n“We also believe that more decentralized funding is important for the future of the Ethereum ecosystem. We continuously try to allocate resources to third parties that we believe can make better decisions than us within certain domains.” - Executive Director Ethereum Foundation [link] 1\\nThis program focuses on getting the community to participate in the process of delegating capital.\\nThe Compound foundation sets a budget of $1.5M to be disbursed by 5 domain allocators. These domain allocators will be led by one active community member each.\\nEach domain allocator runs their program on-chain for full transparency. The data and performance across key metrics will be visible for the community to judge.\\nThe actual disbursement of the grant happens on-chain from a multi-sig wallet controlled by the domain allocator manager and one person from the foundation, whose responsibility will be to ensure that the application is aligned with the domain and in turn aligned with compound lab’s growth plan before signing the disbursal. The sole purpose of the multi-sig is to make sure capital is not being siphoned. However, the allocator is encouraged to make independent decisions.\\nEvery quarter, the foundation & the community shall evaluate the performance of each of the allocators using publicly available data. The allocators can have one of the following outcomes from this review\\nDiscontinued domain: The grants manager (initially Questbook), will share the required voting to discontinue a particular domain, once the domains are finalized along with the compound team.\\nIncreased budget\\nReplaced allocators: For replacement of allocators, or the resigned allocators, the grant manager (initially Questbook) will find the new allocator from the community, after discussing with the compound team. We are also working on making this process more decentralised.\\nThe community members with certain credentials can also initiate a no-confidence motion to initiate a review off-cycle.\\nProduct Screens\\nPerformance Tracking\\nEdit Member’s access control:\\nInvite and Assign Reviewers\\nApplication Review Screen:\\nProduct Demo Link: Demo Video 1\\nCommittee\\nWe have also identified various domains that are relevant to Compound. The committee members recommended below are also the ones best suited to evaluate applicants for the mentioned RFPs, evaluating them on axes like community participation on forums, discord and social media.\\nWe propose the following set of individuals to run one domain allocator for each, we’re open to more domain, alterations to the suggestions and prioritization :\\nDomain Credentials Needed Individual / Orgs Why it is relevant\\nSecurity Analysis Tools, Security Bounties Done 100 Security Audits Certora, More the security of the protocol, lesser the requirement from DApp developers to worry about security in their products\\nRisk parameter update research Paul J, Gauntlet team Crowd sourcing how and why the risk parameters should be adjusted\\nDeveloper tooling Core contributor to Compound and/or popular web3 Defi applications Arr00 Tools and libraries like hardhat plugins, gas optimizing libraries etc\\nPrivacy-preserving transactionsI Deployed and audited zkSNARK, zkSTARK contracts TBD Increase scale of users participating in compound because of privacy preservation\\nMultichain Strategy Deployed 100 Solidity contracts Tyler Ether Will help compound roll out to multiple chains with appropriate caps\\nOpen Oracle Geoff Hayes\\nCoding bootcamp Demonstrated technical writing and workshop organizing skills TBD Scale DeFi contributors to Compound\\nNew protocol ideas and dapps Core contributor to Compound Github Adam Encourage more people to do experiments and compose on Compound\\nDomain Allocator Roles & Responsibilities:\\nThe roles and responsibilities would be similar to the one used in CGP 1.0 1 incorporating the learnings from the learnings posted by the CGP 1.0 team here.\\nTime commitment per week: Estimated 10 hours, might fluctuate based on the number of applications.\\nReviewing applications: The grant manager (Inititally Questbook) will ensure a 2 week turnaround time for the applicants.\\nAllocation of amount for the accepted grant proposals\\nUsing the questbook tool to disburse the funds. It’s seamless, you can check it out here:\\nQuestbook will proactively manage the tasks of the domain allocators, eventually this manager will be elected from the community itself.\\nCompensation:\\nDomain Allocator is paid at $10 an hour, maxed at $500 a week.\\nGrant manager is paid at $15 an hour, maxed at $800 a week.\\nAssuming 5 domains to start with, and a grant manager: We’re looking at ~40K operation cost for a quarter. We are open to iterating this amount post the inputs from the community.\\nConclusion\\nWhat does success look like?\\nObjective\\nThe prime objective of this model is to have domains that align with the. compound’s priorities like Risk, Security etc. This way the contribution of the projects as part of the grants program is directly adding value to the DAO and the token holders.\\nIncrease in number of builders & projects being funded\\nIncrease in homegrown leadership to run grant programs (measured by the number of people running grant programs)\\nIncrease in community members’ participation to keep grant programs accountable (measured by the number of people looking at the dashboard and participating in no-confidence motion votes)\\nDiversity in projects being funded - across technologies, geographies, demographics, etc. We encourage the community to regularly review the project domains, during the compound developer call and also posting on comp.xyz 1 . The grants team will also propose few domains like public goods, if there is a major traction, we will double down by allocating a % of funds to such domains.\\nIncreased engagement in builder communities\\nDiscourse\\nDiscord, Telegram\\nSocial media (Twitter, Reddit)\\nGitHub, Radicle\\nDAO Tools - dework, gnosis, etc.\\nSubjective\\nAn increase in community involvement keeps the grant program accountable\\nBuilders’ sentiment toward Compound\\nCompound’s brand recognition in builder circles\\nAbout Questbook & Compensation:\\nCredentials\\nQuestbook (YC-W21) is a decentralized grant orchestration tool, currently being used by Polygon, AAVE, Celo & Solana.\\nSriharsha Karamchati (co-founder, Questbook) will initially take the role of the grants manager till we find the manager from the community. He has previously setup the Polygon Grants program from scratch to help DAO disburse $600K across 70+ applications and he is one of the signatories for the Polygon Grants Fund.\\nCompensation\\nWe are willing to share the tool for free with the compound labs.\\nHowever, for any specific asks from the grants team in order to run the process more smoothly, we charge for the additional features based on the development overhead. From our previous work experience: We propose a budget of $50K to be kept aside for specific features.\\nCommunity buy-in and next steps\\nThis is a temp check to gather interest to execute such a grant program during the bear market. If the proposal is accepted by the community, we will chart out a more detailed plan on how to setup a domain allocators and the processes to review their performance.\\nWe will also be involving more members from the community to identify the right domain allocators and the top 5 domains that are most relevant to Compound.'"
      ]
     },
     "execution_count": 76,
     "metadata": {},
     "output_type": "execute_result"
    }
   ],
   "source": [
    "all_contents[0]"
   ]
  }
 ],
 "metadata": {
  "interpreter": {
   "hash": "ba4c6069aee3e0fd9e38a82d1a044ef93f7d4df06d195f5bb1f7fc4c16d8946f"
  },
  "kernelspec": {
   "display_name": "Python 3.8.13 ('styleme')",
   "language": "python",
   "name": "python3"
  },
  "language_info": {
   "codemirror_mode": {
    "name": "ipython",
    "version": 3
   },
   "file_extension": ".py",
   "mimetype": "text/x-python",
   "name": "python",
   "nbconvert_exporter": "python",
   "pygments_lexer": "ipython3",
   "version": "3.8.13"
  },
  "orig_nbformat": 4
 },
 "nbformat": 4,
 "nbformat_minor": 2
}
